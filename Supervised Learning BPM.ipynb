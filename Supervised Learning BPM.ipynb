{
 "cells": [
  {
   "cell_type": "code",
   "execution_count": 1,
   "metadata": {},
   "outputs": [],
   "source": [
    "import pandas as pd\n",
    "import numpy as np\n",
    "import matplotlib.pyplot as plt"
   ]
  },
  {
   "cell_type": "code",
   "execution_count": 2,
   "metadata": {},
   "outputs": [],
   "source": [
    "df=pd.read_csv('Full_Data_Nubi_Drive_NEW.csv')"
   ]
  },
  {
   "cell_type": "code",
   "execution_count": 3,
   "metadata": {},
   "outputs": [],
   "source": [
    "psy=pd.read_csv('Psychometric_Data.csv')"
   ]
  },
  {
   "cell_type": "code",
   "execution_count": 4,
   "metadata": {},
   "outputs": [],
   "source": [
    "psy=pd.get_dummies(psy, columns=['Gender'])"
   ]
  },
  {
   "cell_type": "code",
   "execution_count": 5,
   "metadata": {},
   "outputs": [],
   "source": [
    "df['BPM Div']=df['BPM']"
   ]
  },
  {
   "cell_type": "code",
   "execution_count": 6,
   "metadata": {},
   "outputs": [],
   "source": [
    "station=df[df['Trip'].isnull()]\n",
    "station2 = station[station['BPM'].notna()]\n",
    "df_12=station2[station2['P_ID']=='P12']\n",
    "df_13=station2[station2['P_ID']=='P13']\n",
    "df_15=station2[station2['P_ID']=='P15']\n",
    "df_17=station2[station2['P_ID']=='P17']\n",
    "df_18=station2[station2['P_ID']=='P18']\n",
    "df_19=station2[station2['P_ID']=='P19']\n",
    "df_20=station2[station2['P_ID']=='P20']\n",
    "df_22=station2[station2['P_ID']=='P22']\n",
    "df_23=station2[station2['P_ID']=='P23']\n",
    "df_24=station2[station2['P_ID']=='P24']\n",
    "df_27=station2[station2['P_ID']=='P27']\n",
    "\n",
    "arr=[df_12,df_13,df_15,df_17,df_18,df_19,df_20,df_22,df_23,df_24,df_27]\n",
    "new_arr=[]\n",
    "\n",
    "for elem in arr:\n",
    "    avg=elem['BPM'].mean()\n",
    "    new_arr.append(avg)\n",
    "new_df=pd.DataFrame()\n",
    "new_df['P_ID']=['P12','P13','P15','P17','P18','P19','P20','P22','P23','P24','P27']\n",
    "new_df['Averages']=new_arr"
   ]
  },
  {
   "cell_type": "code",
   "execution_count": 7,
   "metadata": {},
   "outputs": [],
   "source": [
    "df_2=df.drop(['Time', 'latitudes', 'longitudes', 'Time_Second'], axis=1)"
   ]
  },
  {
   "cell_type": "code",
   "execution_count": 8,
   "metadata": {},
   "outputs": [
    {
     "name": "stderr",
     "output_type": "stream",
     "text": [
      "/var/folders/41/rlmz0mh15dx9_qw9xxbv4mq00000gn/T/ipykernel_51483/410985319.py:2: DeprecationWarning: `np.bool` is a deprecated alias for the builtin `bool`. To silence this warning, use `bool` by itself. Doing this will not modify any behavior and is safe. If you specifically wanted the numpy scalar type, use `np.bool_` here.\n",
      "Deprecated in NumPy 1.20; for more details and guidance: https://numpy.org/devdocs/release/1.20.0-notes.html#deprecations\n",
      "  half_matrix = corr_matrix.where(np.triu(np.ones(corr_matrix.shape), k=1).astype(np.bool))\n"
     ]
    }
   ],
   "source": [
    "corr_matrix=df_2.corr().abs()\n",
    "half_matrix = corr_matrix.where(np.triu(np.ones(corr_matrix.shape), k=1).astype(np.bool))\n",
    "dropped_columns = [column for column in half_matrix.columns if any(half_matrix[column] > 0.8)]\n",
    "df_2.drop(dropped_columns, axis=1, inplace=True)\n",
    "df_2=pd.get_dummies(df_2, columns=['Day','Src_Weather_Info','Des_Weather_Info'])"
   ]
  },
  {
   "cell_type": "code",
   "execution_count": 9,
   "metadata": {},
   "outputs": [
    {
     "name": "stderr",
     "output_type": "stream",
     "text": [
      "/var/folders/41/rlmz0mh15dx9_qw9xxbv4mq00000gn/T/ipykernel_51483/3058316295.py:16: SettingWithCopyWarning: \n",
      "A value is trying to be set on a copy of a slice from a DataFrame.\n",
      "Try using .loc[row_indexer,col_indexer] = value instead\n",
      "\n",
      "See the caveats in the documentation: https://pandas.pydata.org/pandas-docs/stable/user_guide/indexing.html#returning-a-view-versus-a-copy\n",
      "  elem['BPM Div']=elem['BPM']/new_arr[counter]\n",
      "/var/folders/41/rlmz0mh15dx9_qw9xxbv4mq00000gn/T/ipykernel_51483/3058316295.py:17: SettingWithCopyWarning: \n",
      "A value is trying to be set on a copy of a slice from a DataFrame.\n",
      "Try using .loc[row_indexer,col_indexer] = value instead\n",
      "\n",
      "See the caveats in the documentation: https://pandas.pydata.org/pandas-docs/stable/user_guide/indexing.html#returning-a-view-versus-a-copy\n",
      "  elem['BPM']=elem['BPM']-new_arr[counter]\n",
      "/var/folders/41/rlmz0mh15dx9_qw9xxbv4mq00000gn/T/ipykernel_51483/3058316295.py:16: SettingWithCopyWarning: \n",
      "A value is trying to be set on a copy of a slice from a DataFrame.\n",
      "Try using .loc[row_indexer,col_indexer] = value instead\n",
      "\n",
      "See the caveats in the documentation: https://pandas.pydata.org/pandas-docs/stable/user_guide/indexing.html#returning-a-view-versus-a-copy\n",
      "  elem['BPM Div']=elem['BPM']/new_arr[counter]\n",
      "/var/folders/41/rlmz0mh15dx9_qw9xxbv4mq00000gn/T/ipykernel_51483/3058316295.py:17: SettingWithCopyWarning: \n",
      "A value is trying to be set on a copy of a slice from a DataFrame.\n",
      "Try using .loc[row_indexer,col_indexer] = value instead\n",
      "\n",
      "See the caveats in the documentation: https://pandas.pydata.org/pandas-docs/stable/user_guide/indexing.html#returning-a-view-versus-a-copy\n",
      "  elem['BPM']=elem['BPM']-new_arr[counter]\n",
      "/var/folders/41/rlmz0mh15dx9_qw9xxbv4mq00000gn/T/ipykernel_51483/3058316295.py:16: SettingWithCopyWarning: \n",
      "A value is trying to be set on a copy of a slice from a DataFrame.\n",
      "Try using .loc[row_indexer,col_indexer] = value instead\n",
      "\n",
      "See the caveats in the documentation: https://pandas.pydata.org/pandas-docs/stable/user_guide/indexing.html#returning-a-view-versus-a-copy\n",
      "  elem['BPM Div']=elem['BPM']/new_arr[counter]\n",
      "/var/folders/41/rlmz0mh15dx9_qw9xxbv4mq00000gn/T/ipykernel_51483/3058316295.py:17: SettingWithCopyWarning: \n",
      "A value is trying to be set on a copy of a slice from a DataFrame.\n",
      "Try using .loc[row_indexer,col_indexer] = value instead\n",
      "\n",
      "See the caveats in the documentation: https://pandas.pydata.org/pandas-docs/stable/user_guide/indexing.html#returning-a-view-versus-a-copy\n",
      "  elem['BPM']=elem['BPM']-new_arr[counter]\n",
      "/var/folders/41/rlmz0mh15dx9_qw9xxbv4mq00000gn/T/ipykernel_51483/3058316295.py:16: SettingWithCopyWarning: \n",
      "A value is trying to be set on a copy of a slice from a DataFrame.\n",
      "Try using .loc[row_indexer,col_indexer] = value instead\n",
      "\n",
      "See the caveats in the documentation: https://pandas.pydata.org/pandas-docs/stable/user_guide/indexing.html#returning-a-view-versus-a-copy\n",
      "  elem['BPM Div']=elem['BPM']/new_arr[counter]\n",
      "/var/folders/41/rlmz0mh15dx9_qw9xxbv4mq00000gn/T/ipykernel_51483/3058316295.py:17: SettingWithCopyWarning: \n",
      "A value is trying to be set on a copy of a slice from a DataFrame.\n",
      "Try using .loc[row_indexer,col_indexer] = value instead\n",
      "\n",
      "See the caveats in the documentation: https://pandas.pydata.org/pandas-docs/stable/user_guide/indexing.html#returning-a-view-versus-a-copy\n",
      "  elem['BPM']=elem['BPM']-new_arr[counter]\n",
      "/var/folders/41/rlmz0mh15dx9_qw9xxbv4mq00000gn/T/ipykernel_51483/3058316295.py:16: SettingWithCopyWarning: \n",
      "A value is trying to be set on a copy of a slice from a DataFrame.\n",
      "Try using .loc[row_indexer,col_indexer] = value instead\n",
      "\n",
      "See the caveats in the documentation: https://pandas.pydata.org/pandas-docs/stable/user_guide/indexing.html#returning-a-view-versus-a-copy\n",
      "  elem['BPM Div']=elem['BPM']/new_arr[counter]\n",
      "/var/folders/41/rlmz0mh15dx9_qw9xxbv4mq00000gn/T/ipykernel_51483/3058316295.py:17: SettingWithCopyWarning: \n",
      "A value is trying to be set on a copy of a slice from a DataFrame.\n",
      "Try using .loc[row_indexer,col_indexer] = value instead\n",
      "\n",
      "See the caveats in the documentation: https://pandas.pydata.org/pandas-docs/stable/user_guide/indexing.html#returning-a-view-versus-a-copy\n",
      "  elem['BPM']=elem['BPM']-new_arr[counter]\n",
      "/var/folders/41/rlmz0mh15dx9_qw9xxbv4mq00000gn/T/ipykernel_51483/3058316295.py:16: SettingWithCopyWarning: \n",
      "A value is trying to be set on a copy of a slice from a DataFrame.\n",
      "Try using .loc[row_indexer,col_indexer] = value instead\n",
      "\n",
      "See the caveats in the documentation: https://pandas.pydata.org/pandas-docs/stable/user_guide/indexing.html#returning-a-view-versus-a-copy\n",
      "  elem['BPM Div']=elem['BPM']/new_arr[counter]\n",
      "/var/folders/41/rlmz0mh15dx9_qw9xxbv4mq00000gn/T/ipykernel_51483/3058316295.py:17: SettingWithCopyWarning: \n",
      "A value is trying to be set on a copy of a slice from a DataFrame.\n",
      "Try using .loc[row_indexer,col_indexer] = value instead\n",
      "\n",
      "See the caveats in the documentation: https://pandas.pydata.org/pandas-docs/stable/user_guide/indexing.html#returning-a-view-versus-a-copy\n",
      "  elem['BPM']=elem['BPM']-new_arr[counter]\n",
      "/var/folders/41/rlmz0mh15dx9_qw9xxbv4mq00000gn/T/ipykernel_51483/3058316295.py:16: SettingWithCopyWarning: \n",
      "A value is trying to be set on a copy of a slice from a DataFrame.\n",
      "Try using .loc[row_indexer,col_indexer] = value instead\n",
      "\n",
      "See the caveats in the documentation: https://pandas.pydata.org/pandas-docs/stable/user_guide/indexing.html#returning-a-view-versus-a-copy\n",
      "  elem['BPM Div']=elem['BPM']/new_arr[counter]\n",
      "/var/folders/41/rlmz0mh15dx9_qw9xxbv4mq00000gn/T/ipykernel_51483/3058316295.py:17: SettingWithCopyWarning: \n",
      "A value is trying to be set on a copy of a slice from a DataFrame.\n",
      "Try using .loc[row_indexer,col_indexer] = value instead\n",
      "\n",
      "See the caveats in the documentation: https://pandas.pydata.org/pandas-docs/stable/user_guide/indexing.html#returning-a-view-versus-a-copy\n",
      "  elem['BPM']=elem['BPM']-new_arr[counter]\n",
      "/var/folders/41/rlmz0mh15dx9_qw9xxbv4mq00000gn/T/ipykernel_51483/3058316295.py:16: SettingWithCopyWarning: \n",
      "A value is trying to be set on a copy of a slice from a DataFrame.\n",
      "Try using .loc[row_indexer,col_indexer] = value instead\n",
      "\n",
      "See the caveats in the documentation: https://pandas.pydata.org/pandas-docs/stable/user_guide/indexing.html#returning-a-view-versus-a-copy\n",
      "  elem['BPM Div']=elem['BPM']/new_arr[counter]\n",
      "/var/folders/41/rlmz0mh15dx9_qw9xxbv4mq00000gn/T/ipykernel_51483/3058316295.py:17: SettingWithCopyWarning: \n",
      "A value is trying to be set on a copy of a slice from a DataFrame.\n",
      "Try using .loc[row_indexer,col_indexer] = value instead\n",
      "\n",
      "See the caveats in the documentation: https://pandas.pydata.org/pandas-docs/stable/user_guide/indexing.html#returning-a-view-versus-a-copy\n",
      "  elem['BPM']=elem['BPM']-new_arr[counter]\n",
      "/var/folders/41/rlmz0mh15dx9_qw9xxbv4mq00000gn/T/ipykernel_51483/3058316295.py:16: SettingWithCopyWarning: \n",
      "A value is trying to be set on a copy of a slice from a DataFrame.\n",
      "Try using .loc[row_indexer,col_indexer] = value instead\n",
      "\n",
      "See the caveats in the documentation: https://pandas.pydata.org/pandas-docs/stable/user_guide/indexing.html#returning-a-view-versus-a-copy\n",
      "  elem['BPM Div']=elem['BPM']/new_arr[counter]\n",
      "/var/folders/41/rlmz0mh15dx9_qw9xxbv4mq00000gn/T/ipykernel_51483/3058316295.py:17: SettingWithCopyWarning: \n",
      "A value is trying to be set on a copy of a slice from a DataFrame.\n",
      "Try using .loc[row_indexer,col_indexer] = value instead\n",
      "\n",
      "See the caveats in the documentation: https://pandas.pydata.org/pandas-docs/stable/user_guide/indexing.html#returning-a-view-versus-a-copy\n",
      "  elem['BPM']=elem['BPM']-new_arr[counter]\n",
      "/var/folders/41/rlmz0mh15dx9_qw9xxbv4mq00000gn/T/ipykernel_51483/3058316295.py:16: SettingWithCopyWarning: \n",
      "A value is trying to be set on a copy of a slice from a DataFrame.\n",
      "Try using .loc[row_indexer,col_indexer] = value instead\n",
      "\n",
      "See the caveats in the documentation: https://pandas.pydata.org/pandas-docs/stable/user_guide/indexing.html#returning-a-view-versus-a-copy\n",
      "  elem['BPM Div']=elem['BPM']/new_arr[counter]\n",
      "/var/folders/41/rlmz0mh15dx9_qw9xxbv4mq00000gn/T/ipykernel_51483/3058316295.py:17: SettingWithCopyWarning: \n",
      "A value is trying to be set on a copy of a slice from a DataFrame.\n",
      "Try using .loc[row_indexer,col_indexer] = value instead\n",
      "\n",
      "See the caveats in the documentation: https://pandas.pydata.org/pandas-docs/stable/user_guide/indexing.html#returning-a-view-versus-a-copy\n",
      "  elem['BPM']=elem['BPM']-new_arr[counter]\n",
      "/var/folders/41/rlmz0mh15dx9_qw9xxbv4mq00000gn/T/ipykernel_51483/3058316295.py:16: SettingWithCopyWarning: \n",
      "A value is trying to be set on a copy of a slice from a DataFrame.\n",
      "Try using .loc[row_indexer,col_indexer] = value instead\n",
      "\n",
      "See the caveats in the documentation: https://pandas.pydata.org/pandas-docs/stable/user_guide/indexing.html#returning-a-view-versus-a-copy\n",
      "  elem['BPM Div']=elem['BPM']/new_arr[counter]\n",
      "/var/folders/41/rlmz0mh15dx9_qw9xxbv4mq00000gn/T/ipykernel_51483/3058316295.py:17: SettingWithCopyWarning: \n",
      "A value is trying to be set on a copy of a slice from a DataFrame.\n",
      "Try using .loc[row_indexer,col_indexer] = value instead\n",
      "\n",
      "See the caveats in the documentation: https://pandas.pydata.org/pandas-docs/stable/user_guide/indexing.html#returning-a-view-versus-a-copy\n",
      "  elem['BPM']=elem['BPM']-new_arr[counter]\n"
     ]
    }
   ],
   "source": [
    "df_12=df_2[df_2['P_ID']=='P12']\n",
    "df_13=df_2[df_2['P_ID']=='P13']\n",
    "df_15=df_2[df_2['P_ID']=='P15']\n",
    "df_17=df_2[df_2['P_ID']=='P17']\n",
    "df_18=df_2[df_2['P_ID']=='P18']\n",
    "df_19=df_2[df_2['P_ID']=='P19']\n",
    "df_20=df_2[df_2['P_ID']=='P20']\n",
    "df_22=df_2[df_2['P_ID']=='P22']\n",
    "df_23=df_2[df_2['P_ID']=='P23']\n",
    "df_24=df_2[df_2['P_ID']=='P24']\n",
    "df_27=df_2[df_2['P_ID']=='P27']\n",
    "\n",
    "arr=[df_12,df_13,df_15,df_17,df_18,df_19,df_20,df_22,df_23,df_24,df_27]\n",
    "counter=0\n",
    "for elem in arr:\n",
    "    elem['BPM Div']=elem['BPM']/new_arr[counter]\n",
    "    elem['BPM']=elem['BPM']-new_arr[counter]\n",
    "    counter+=1\n",
    "    \n",
    "df_new=pd.concat([df_12, df_13, df_15, df_17, df_18, df_19, df_20, df_22, df_23, df_24, df_27])\n",
    "\n",
    "# df_2=df_new.drop('P_ID', axis=1)\n",
    "df_2=df_new"
   ]
  },
  {
   "cell_type": "code",
   "execution_count": 10,
   "metadata": {},
   "outputs": [],
   "source": [
    "df_2=pd.merge(df_2, psy, on='P_ID')"
   ]
  },
  {
   "cell_type": "code",
   "execution_count": 11,
   "metadata": {},
   "outputs": [],
   "source": [
    "df_2=df_2[df_2['Trip'].notna()]\n",
    "df_2=df_2[df_2['BPM'].notna()]"
   ]
  },
  {
   "cell_type": "code",
   "execution_count": 12,
   "metadata": {},
   "outputs": [],
   "source": [
    "df_2=pd.get_dummies(df_2, columns=['Trip'])"
   ]
  },
  {
   "cell_type": "code",
   "execution_count": 13,
   "metadata": {},
   "outputs": [],
   "source": [
    "df_2.drop('P_ID', axis=1, inplace=True)"
   ]
  },
  {
   "cell_type": "code",
   "execution_count": 14,
   "metadata": {},
   "outputs": [],
   "source": [
    "df_2=df_2.dropna(axis=0)"
   ]
  },
  {
   "cell_type": "markdown",
   "metadata": {},
   "source": [
    "## Predict BPM difference"
   ]
  },
  {
   "cell_type": "code",
   "execution_count": 15,
   "metadata": {},
   "outputs": [],
   "source": [
    "temp=df_2['BPM']\n",
    "df_3=df_2.drop(['BPM', 'BPM Div'], axis=1)\n",
    "Y=temp.values\n",
    "X=df_2.values"
   ]
  },
  {
   "cell_type": "code",
   "execution_count": 16,
   "metadata": {},
   "outputs": [
    {
     "data": {
      "text/html": [
       "<div>\n",
       "<style scoped>\n",
       "    .dataframe tbody tr th:only-of-type {\n",
       "        vertical-align: middle;\n",
       "    }\n",
       "\n",
       "    .dataframe tbody tr th {\n",
       "        vertical-align: top;\n",
       "    }\n",
       "\n",
       "    .dataframe thead th {\n",
       "        text-align: right;\n",
       "    }\n",
       "</style>\n",
       "<table border=\"1\" class=\"dataframe\">\n",
       "  <thead>\n",
       "    <tr style=\"text-align: right;\">\n",
       "      <th></th>\n",
       "      <th>Speed_MPH</th>\n",
       "      <th>ATP</th>\n",
       "      <th>BP_Hg</th>\n",
       "      <th>JF</th>\n",
       "      <th>FF</th>\n",
       "      <th>Src_Temperature</th>\n",
       "      <th>Src_Pressure</th>\n",
       "      <th>Src_WindSpeed</th>\n",
       "      <th>Day_Day1</th>\n",
       "      <th>Day_Day2</th>\n",
       "      <th>...</th>\n",
       "      <th>Openness</th>\n",
       "      <th>Gender_Female</th>\n",
       "      <th>Gender_Male</th>\n",
       "      <th>Trip_Trip1</th>\n",
       "      <th>Trip_Trip2</th>\n",
       "      <th>Trip_Trip3</th>\n",
       "      <th>Trip_Trip4</th>\n",
       "      <th>Trip_Trip5</th>\n",
       "      <th>Trip_Trip6</th>\n",
       "      <th>Trip_Trip7</th>\n",
       "    </tr>\n",
       "  </thead>\n",
       "  <tbody>\n",
       "    <tr>\n",
       "      <th>8906</th>\n",
       "      <td>20.500000</td>\n",
       "      <td>16.900000</td>\n",
       "      <td>28.9</td>\n",
       "      <td>1.70738</td>\n",
       "      <td>24.79</td>\n",
       "      <td>84.04</td>\n",
       "      <td>1014.0</td>\n",
       "      <td>10.36</td>\n",
       "      <td>0</td>\n",
       "      <td>1</td>\n",
       "      <td>...</td>\n",
       "      <td>6</td>\n",
       "      <td>1</td>\n",
       "      <td>0</td>\n",
       "      <td>1</td>\n",
       "      <td>0</td>\n",
       "      <td>0</td>\n",
       "      <td>0</td>\n",
       "      <td>0</td>\n",
       "      <td>0</td>\n",
       "      <td>0</td>\n",
       "    </tr>\n",
       "    <tr>\n",
       "      <th>8911</th>\n",
       "      <td>9.500000</td>\n",
       "      <td>20.000000</td>\n",
       "      <td>28.9</td>\n",
       "      <td>1.43925</td>\n",
       "      <td>25.85</td>\n",
       "      <td>84.04</td>\n",
       "      <td>1014.0</td>\n",
       "      <td>10.36</td>\n",
       "      <td>0</td>\n",
       "      <td>1</td>\n",
       "      <td>...</td>\n",
       "      <td>6</td>\n",
       "      <td>1</td>\n",
       "      <td>0</td>\n",
       "      <td>1</td>\n",
       "      <td>0</td>\n",
       "      <td>0</td>\n",
       "      <td>0</td>\n",
       "      <td>0</td>\n",
       "      <td>0</td>\n",
       "      <td>0</td>\n",
       "    </tr>\n",
       "    <tr>\n",
       "      <th>8912</th>\n",
       "      <td>22.000000</td>\n",
       "      <td>16.600000</td>\n",
       "      <td>28.9</td>\n",
       "      <td>1.70738</td>\n",
       "      <td>24.79</td>\n",
       "      <td>84.04</td>\n",
       "      <td>1014.0</td>\n",
       "      <td>10.36</td>\n",
       "      <td>0</td>\n",
       "      <td>1</td>\n",
       "      <td>...</td>\n",
       "      <td>6</td>\n",
       "      <td>1</td>\n",
       "      <td>0</td>\n",
       "      <td>1</td>\n",
       "      <td>0</td>\n",
       "      <td>0</td>\n",
       "      <td>0</td>\n",
       "      <td>0</td>\n",
       "      <td>0</td>\n",
       "      <td>0</td>\n",
       "    </tr>\n",
       "    <tr>\n",
       "      <th>8920</th>\n",
       "      <td>0.333333</td>\n",
       "      <td>16.900000</td>\n",
       "      <td>28.9</td>\n",
       "      <td>2.42528</td>\n",
       "      <td>28.40</td>\n",
       "      <td>84.04</td>\n",
       "      <td>1014.0</td>\n",
       "      <td>10.36</td>\n",
       "      <td>0</td>\n",
       "      <td>1</td>\n",
       "      <td>...</td>\n",
       "      <td>6</td>\n",
       "      <td>1</td>\n",
       "      <td>0</td>\n",
       "      <td>1</td>\n",
       "      <td>0</td>\n",
       "      <td>0</td>\n",
       "      <td>0</td>\n",
       "      <td>0</td>\n",
       "      <td>0</td>\n",
       "      <td>0</td>\n",
       "    </tr>\n",
       "    <tr>\n",
       "      <th>8933</th>\n",
       "      <td>3.333333</td>\n",
       "      <td>17.300000</td>\n",
       "      <td>28.9</td>\n",
       "      <td>2.42528</td>\n",
       "      <td>28.40</td>\n",
       "      <td>84.04</td>\n",
       "      <td>1014.0</td>\n",
       "      <td>10.36</td>\n",
       "      <td>0</td>\n",
       "      <td>1</td>\n",
       "      <td>...</td>\n",
       "      <td>6</td>\n",
       "      <td>1</td>\n",
       "      <td>0</td>\n",
       "      <td>1</td>\n",
       "      <td>0</td>\n",
       "      <td>0</td>\n",
       "      <td>0</td>\n",
       "      <td>0</td>\n",
       "      <td>0</td>\n",
       "      <td>0</td>\n",
       "    </tr>\n",
       "    <tr>\n",
       "      <th>...</th>\n",
       "      <td>...</td>\n",
       "      <td>...</td>\n",
       "      <td>...</td>\n",
       "      <td>...</td>\n",
       "      <td>...</td>\n",
       "      <td>...</td>\n",
       "      <td>...</td>\n",
       "      <td>...</td>\n",
       "      <td>...</td>\n",
       "      <td>...</td>\n",
       "      <td>...</td>\n",
       "      <td>...</td>\n",
       "      <td>...</td>\n",
       "      <td>...</td>\n",
       "      <td>...</td>\n",
       "      <td>...</td>\n",
       "      <td>...</td>\n",
       "      <td>...</td>\n",
       "      <td>...</td>\n",
       "      <td>...</td>\n",
       "      <td>...</td>\n",
       "    </tr>\n",
       "    <tr>\n",
       "      <th>2064695</th>\n",
       "      <td>15.333333</td>\n",
       "      <td>16.866667</td>\n",
       "      <td>29.5</td>\n",
       "      <td>0.00000</td>\n",
       "      <td>45.61</td>\n",
       "      <td>93.45</td>\n",
       "      <td>1017.0</td>\n",
       "      <td>10.36</td>\n",
       "      <td>0</td>\n",
       "      <td>0</td>\n",
       "      <td>...</td>\n",
       "      <td>7</td>\n",
       "      <td>0</td>\n",
       "      <td>1</td>\n",
       "      <td>0</td>\n",
       "      <td>1</td>\n",
       "      <td>0</td>\n",
       "      <td>0</td>\n",
       "      <td>0</td>\n",
       "      <td>0</td>\n",
       "      <td>0</td>\n",
       "    </tr>\n",
       "    <tr>\n",
       "      <th>2064700</th>\n",
       "      <td>20.000000</td>\n",
       "      <td>11.000000</td>\n",
       "      <td>29.5</td>\n",
       "      <td>0.00000</td>\n",
       "      <td>45.61</td>\n",
       "      <td>93.45</td>\n",
       "      <td>1017.0</td>\n",
       "      <td>10.36</td>\n",
       "      <td>0</td>\n",
       "      <td>0</td>\n",
       "      <td>...</td>\n",
       "      <td>7</td>\n",
       "      <td>0</td>\n",
       "      <td>1</td>\n",
       "      <td>0</td>\n",
       "      <td>1</td>\n",
       "      <td>0</td>\n",
       "      <td>0</td>\n",
       "      <td>0</td>\n",
       "      <td>0</td>\n",
       "      <td>0</td>\n",
       "    </tr>\n",
       "    <tr>\n",
       "      <th>2064704</th>\n",
       "      <td>15.000000</td>\n",
       "      <td>10.350000</td>\n",
       "      <td>29.5</td>\n",
       "      <td>0.00000</td>\n",
       "      <td>45.61</td>\n",
       "      <td>93.45</td>\n",
       "      <td>1017.0</td>\n",
       "      <td>10.36</td>\n",
       "      <td>0</td>\n",
       "      <td>0</td>\n",
       "      <td>...</td>\n",
       "      <td>7</td>\n",
       "      <td>0</td>\n",
       "      <td>1</td>\n",
       "      <td>0</td>\n",
       "      <td>1</td>\n",
       "      <td>0</td>\n",
       "      <td>0</td>\n",
       "      <td>0</td>\n",
       "      <td>0</td>\n",
       "      <td>0</td>\n",
       "    </tr>\n",
       "    <tr>\n",
       "      <th>2064710</th>\n",
       "      <td>4.500000</td>\n",
       "      <td>14.050000</td>\n",
       "      <td>29.5</td>\n",
       "      <td>0.00000</td>\n",
       "      <td>45.61</td>\n",
       "      <td>93.45</td>\n",
       "      <td>1017.0</td>\n",
       "      <td>10.36</td>\n",
       "      <td>0</td>\n",
       "      <td>0</td>\n",
       "      <td>...</td>\n",
       "      <td>7</td>\n",
       "      <td>0</td>\n",
       "      <td>1</td>\n",
       "      <td>0</td>\n",
       "      <td>1</td>\n",
       "      <td>0</td>\n",
       "      <td>0</td>\n",
       "      <td>0</td>\n",
       "      <td>0</td>\n",
       "      <td>0</td>\n",
       "    </tr>\n",
       "    <tr>\n",
       "      <th>2064712</th>\n",
       "      <td>8.500000</td>\n",
       "      <td>20.150000</td>\n",
       "      <td>29.5</td>\n",
       "      <td>0.00000</td>\n",
       "      <td>45.61</td>\n",
       "      <td>93.45</td>\n",
       "      <td>1017.0</td>\n",
       "      <td>10.36</td>\n",
       "      <td>0</td>\n",
       "      <td>0</td>\n",
       "      <td>...</td>\n",
       "      <td>7</td>\n",
       "      <td>0</td>\n",
       "      <td>1</td>\n",
       "      <td>0</td>\n",
       "      <td>1</td>\n",
       "      <td>0</td>\n",
       "      <td>0</td>\n",
       "      <td>0</td>\n",
       "      <td>0</td>\n",
       "      <td>0</td>\n",
       "    </tr>\n",
       "  </tbody>\n",
       "</table>\n",
       "<p>39444 rows × 42 columns</p>\n",
       "</div>"
      ],
      "text/plain": [
       "         Speed_MPH        ATP  BP_Hg       JF     FF  Src_Temperature  \\\n",
       "8906     20.500000  16.900000   28.9  1.70738  24.79            84.04   \n",
       "8911      9.500000  20.000000   28.9  1.43925  25.85            84.04   \n",
       "8912     22.000000  16.600000   28.9  1.70738  24.79            84.04   \n",
       "8920      0.333333  16.900000   28.9  2.42528  28.40            84.04   \n",
       "8933      3.333333  17.300000   28.9  2.42528  28.40            84.04   \n",
       "...            ...        ...    ...      ...    ...              ...   \n",
       "2064695  15.333333  16.866667   29.5  0.00000  45.61            93.45   \n",
       "2064700  20.000000  11.000000   29.5  0.00000  45.61            93.45   \n",
       "2064704  15.000000  10.350000   29.5  0.00000  45.61            93.45   \n",
       "2064710   4.500000  14.050000   29.5  0.00000  45.61            93.45   \n",
       "2064712   8.500000  20.150000   29.5  0.00000  45.61            93.45   \n",
       "\n",
       "         Src_Pressure  Src_WindSpeed  Day_Day1  Day_Day2  ...  Openness  \\\n",
       "8906           1014.0          10.36         0         1  ...         6   \n",
       "8911           1014.0          10.36         0         1  ...         6   \n",
       "8912           1014.0          10.36         0         1  ...         6   \n",
       "8920           1014.0          10.36         0         1  ...         6   \n",
       "8933           1014.0          10.36         0         1  ...         6   \n",
       "...               ...            ...       ...       ...  ...       ...   \n",
       "2064695        1017.0          10.36         0         0  ...         7   \n",
       "2064700        1017.0          10.36         0         0  ...         7   \n",
       "2064704        1017.0          10.36         0         0  ...         7   \n",
       "2064710        1017.0          10.36         0         0  ...         7   \n",
       "2064712        1017.0          10.36         0         0  ...         7   \n",
       "\n",
       "         Gender_Female  Gender_Male  Trip_Trip1  Trip_Trip2  Trip_Trip3  \\\n",
       "8906                 1            0           1           0           0   \n",
       "8911                 1            0           1           0           0   \n",
       "8912                 1            0           1           0           0   \n",
       "8920                 1            0           1           0           0   \n",
       "8933                 1            0           1           0           0   \n",
       "...                ...          ...         ...         ...         ...   \n",
       "2064695              0            1           0           1           0   \n",
       "2064700              0            1           0           1           0   \n",
       "2064704              0            1           0           1           0   \n",
       "2064710              0            1           0           1           0   \n",
       "2064712              0            1           0           1           0   \n",
       "\n",
       "         Trip_Trip4  Trip_Trip5  Trip_Trip6  Trip_Trip7  \n",
       "8906              0           0           0           0  \n",
       "8911              0           0           0           0  \n",
       "8912              0           0           0           0  \n",
       "8920              0           0           0           0  \n",
       "8933              0           0           0           0  \n",
       "...             ...         ...         ...         ...  \n",
       "2064695           0           0           0           0  \n",
       "2064700           0           0           0           0  \n",
       "2064704           0           0           0           0  \n",
       "2064710           0           0           0           0  \n",
       "2064712           0           0           0           0  \n",
       "\n",
       "[39444 rows x 42 columns]"
      ]
     },
     "execution_count": 16,
     "metadata": {},
     "output_type": "execute_result"
    }
   ],
   "source": [
    "df_3"
   ]
  },
  {
   "cell_type": "code",
   "execution_count": 17,
   "metadata": {},
   "outputs": [],
   "source": [
    "from sklearn import ensemble"
   ]
  },
  {
   "cell_type": "code",
   "execution_count": 18,
   "metadata": {},
   "outputs": [],
   "source": [
    "from sklearn.ensemble import GradientBoostingRegressor"
   ]
  },
  {
   "cell_type": "code",
   "execution_count": 19,
   "metadata": {},
   "outputs": [],
   "source": [
    "from sklearn.model_selection import KFold"
   ]
  },
  {
   "cell_type": "code",
   "execution_count": 20,
   "metadata": {},
   "outputs": [],
   "source": [
    "kf = KFold(n_splits=5,random_state=42,shuffle=True)"
   ]
  },
  {
   "cell_type": "code",
   "execution_count": 21,
   "metadata": {},
   "outputs": [],
   "source": [
    "for train_index,val_index in kf.split(X):\n",
    "    X_train,X_test = df_3.iloc[train_index],df_3.iloc[val_index],\n",
    "    y_train,y_test = temp.iloc[train_index],temp.iloc[val_index]"
   ]
  },
  {
   "cell_type": "code",
   "execution_count": 20,
   "metadata": {},
   "outputs": [],
   "source": [
    "# gb = GradientBoostingRegressor(learning_rate=0.1)"
   ]
  },
  {
   "cell_type": "code",
   "execution_count": 21,
   "metadata": {},
   "outputs": [],
   "source": [
    "# gb.fit(X_train,y_train)"
   ]
  },
  {
   "cell_type": "code",
   "execution_count": 20,
   "metadata": {},
   "outputs": [
    {
     "data": {
      "text/plain": [
       "0.5467783524729867"
      ]
     },
     "execution_count": 20,
     "metadata": {},
     "output_type": "execute_result"
    }
   ],
   "source": [
    "# gb.score(X_test, y_test)"
   ]
  },
  {
   "cell_type": "code",
   "execution_count": 21,
   "metadata": {},
   "outputs": [
    {
     "name": "stdout",
     "output_type": "stream",
     "text": [
      "[0.02189888 0.02305711 0.13835596 0.01016508 0.02250809 0.19119727\n",
      " 0.08048844 0.19542853 0.02232641 0.06696474 0.00790592 0.0208417\n",
      " 0.01836798 0.00951038 0.05242805 0.00456903 0.00065282 0.\n",
      " 0.01452991 0.00182657 0.00186826 0.0008479  0.00915345 0.00031204\n",
      " 0.00208483 0.00192578 0.03351211 0.00375687 0.         0.02224798\n",
      " 0.00452614 0.00835918 0.00838261]\n"
     ]
    }
   ],
   "source": [
    "# print(gb.feature_importances_)"
   ]
  },
  {
   "cell_type": "code",
   "execution_count": 22,
   "metadata": {},
   "outputs": [
    {
     "data": {
      "text/plain": [
       "Index(['Speed_MPH', 'ATP', 'BP_Hg', 'JF', 'FF', 'Src_Temperature',\n",
       "       'Src_Pressure', 'Src_WindSpeed', 'Day_Day1', 'Day_Day2', 'Day_Day3',\n",
       "       'Day_Day4', 'Day_Day5', 'Day_Day6', 'Day_Day7',\n",
       "       'Src_Weather_Info_Clear', 'Src_Weather_Info_Clouds',\n",
       "       'Src_Weather_Info_Drizzle', 'Src_Weather_Info_Haze',\n",
       "       'Src_Weather_Info_Mist', 'Src_Weather_Info_Thunderstorm',\n",
       "       'Des_Weather_Info_Clear', 'Des_Weather_Info_Clouds',\n",
       "       'Des_Weather_Info_Haze', 'Des_Weather_Info_Mist',\n",
       "       'Des_Weather_Info_Thunderstorm', 'Trip_Trip1', 'Trip_Trip2',\n",
       "       'Trip_Trip3', 'Trip_Trip4', 'Trip_Trip5', 'Trip_Trip6', 'Trip_Trip7'],\n",
       "      dtype='object')"
      ]
     },
     "execution_count": 22,
     "metadata": {},
     "output_type": "execute_result"
    }
   ],
   "source": [
    "# X_train.keys()"
   ]
  },
  {
   "cell_type": "code",
   "execution_count": 22,
   "metadata": {},
   "outputs": [],
   "source": [
    "from matplotlib.pyplot import figure"
   ]
  },
  {
   "cell_type": "code",
   "execution_count": 24,
   "metadata": {},
   "outputs": [
    {
     "name": "stdout",
     "output_type": "stream",
     "text": [
      "[28 17 23 16 21 19 20 25 24 27 30 15 10 31 32 22 13  3 18 12 11  0 29  8\n",
      "  4  1 26 14  9  6  2  5  7]\n"
     ]
    },
    {
     "data": {
      "image/png": "[encoded data removed]",
      "text/plain": [
       "<Figure size 720x576 with 1 Axes>"
      ]
     },
     "metadata": {
      "needs_background": "light"
     },
     "output_type": "display_data"
    }
   ],
   "source": [
    "# feature_importance = gb.feature_importances_\n",
    "# # make importances relative to max importance\n",
    "# feature_importance = 100.0 * (feature_importance / feature_importance.max())\n",
    "# sorted_idx = np.argsort(feature_importance)\n",
    "# print(sorted_idx)\n",
    "# pos = np.arange(sorted_idx.shape[0]) + .5\n",
    "# f=plt.figure()\n",
    "# f.set_figwidth(10)\n",
    "# f.set_figheight(8)\n",
    "# plt.barh(pos, feature_importance[sorted_idx], align='center')\n",
    "# plt.yticks(pos, X_train.keys()[sorted_idx])\n",
    "# plt.xlabel('Relative Importance')\n",
    "# plt.title('Variable Importance')\n",
    "# plt.show()"
   ]
  },
  {
   "cell_type": "code",
   "execution_count": 23,
   "metadata": {},
   "outputs": [],
   "source": [
    "from sklearn.ensemble import RandomForestRegressor"
   ]
  },
  {
   "cell_type": "code",
   "execution_count": 26,
   "metadata": {},
   "outputs": [],
   "source": [
    "# rf=RandomForestRegressor()"
   ]
  },
  {
   "cell_type": "code",
   "execution_count": 27,
   "metadata": {},
   "outputs": [
    {
     "data": {
      "text/plain": [
       "RandomForestRegressor()"
      ]
     },
     "execution_count": 27,
     "metadata": {},
     "output_type": "execute_result"
    }
   ],
   "source": [
    "# rf.fit(X_train,y_train)"
   ]
  },
  {
   "cell_type": "code",
   "execution_count": 28,
   "metadata": {},
   "outputs": [
    {
     "data": {
      "text/plain": [
       "0.8133529003570668"
      ]
     },
     "execution_count": 28,
     "metadata": {},
     "output_type": "execute_result"
    }
   ],
   "source": [
    "# rf.score(X_test, y_test)"
   ]
  },
  {
   "cell_type": "code",
   "execution_count": 29,
   "metadata": {},
   "outputs": [
    {
     "name": "stdout",
     "output_type": "stream",
     "text": [
      "[9.55164070e-02 8.69230161e-02 7.90707824e-02 4.84003702e-02\n",
      " 6.14185178e-02 1.70363252e-01 8.01237798e-02 1.42252188e-01\n",
      " 1.79844322e-02 4.92615477e-02 1.29006107e-02 4.92730301e-03\n",
      " 1.76566133e-02 1.45538509e-02 1.91018775e-02 8.11976241e-03\n",
      " 1.05412890e-02 1.18663994e-04 6.55023836e-04 8.79641172e-04\n",
      " 4.15467901e-04 4.10081811e-03 5.03464578e-03 5.77912860e-04\n",
      " 6.36319212e-04 2.99137545e-04 2.26763477e-02 1.34630852e-02\n",
      " 7.89144658e-03 1.14487701e-02 2.01952963e-03 9.01772502e-03\n",
      " 1.64986483e-03]\n"
     ]
    }
   ],
   "source": [
    "# print(rf.feature_importances_)"
   ]
  },
  {
   "cell_type": "code",
   "execution_count": 30,
   "metadata": {},
   "outputs": [
    {
     "name": "stdout",
     "output_type": "stream",
     "text": [
      "[17 25 20 23 24 18 19 32 30 21 11 22 28 15 31 16 29 10 27 13 12  8 14 26\n",
      "  3  9  4  2  6  1  0  7  5]\n"
     ]
    },
    {
     "data": {
      "image/png": "[encoded data removed]",
      "text/plain": [
       "<Figure size 720x576 with 1 Axes>"
      ]
     },
     "metadata": {
      "needs_background": "light"
     },
     "output_type": "display_data"
    }
   ],
   "source": [
    "# feature_importance = rf.feature_importances_\n",
    "# # make importances relative to max importance\n",
    "# feature_importance = 100.0 * (feature_importance / feature_importance.max())\n",
    "# sorted_idx = np.argsort(feature_importance)\n",
    "# print(sorted_idx)\n",
    "# pos = np.arange(sorted_idx.shape[0]) + .5\n",
    "# f=plt.figure()\n",
    "# f.set_figwidth(10)\n",
    "# f.set_figheight(8)\n",
    "# plt.barh(pos, feature_importance[sorted_idx], align='center')\n",
    "# plt.yticks(pos, X_train.keys()[sorted_idx])\n",
    "# plt.xlabel('Relative Importance')\n",
    "# plt.title('Variable Importance')\n",
    "# plt.show()"
   ]
  },
  {
   "cell_type": "code",
   "execution_count": 24,
   "metadata": {},
   "outputs": [],
   "source": [
    "from sklearn.ensemble import AdaBoostRegressor"
   ]
  },
  {
   "cell_type": "code",
   "execution_count": 32,
   "metadata": {},
   "outputs": [],
   "source": [
    "# ab=AdaBoostRegressor(loss='exponential', n_estimators=25)"
   ]
  },
  {
   "cell_type": "code",
   "execution_count": 33,
   "metadata": {},
   "outputs": [
    {
     "data": {
      "text/plain": [
       "AdaBoostRegressor(loss='exponential', n_estimators=25)"
      ]
     },
     "execution_count": 33,
     "metadata": {},
     "output_type": "execute_result"
    }
   ],
   "source": [
    "# ab.fit(X_train,y_train)"
   ]
  },
  {
   "cell_type": "code",
   "execution_count": 34,
   "metadata": {},
   "outputs": [
    {
     "data": {
      "text/plain": [
       "0.22719265702938285"
      ]
     },
     "execution_count": 34,
     "metadata": {},
     "output_type": "execute_result"
    }
   ],
   "source": [
    "# ab.score(X_test, y_test)"
   ]
  },
  {
   "cell_type": "code",
   "execution_count": 35,
   "metadata": {},
   "outputs": [
    {
     "name": "stdout",
     "output_type": "stream",
     "text": [
      "[16 30 28 25 24 23 21 20 19 18 17 31 32 10 12 11 29 15 13  8 22  3 27  1\n",
      " 26 14  4  0  5  2  9  7  6]\n"
     ]
    },
    {
     "data": {
      "image/png": "[encoded data removed]",
      "text/plain": [
       "<Figure size 720x576 with 1 Axes>"
      ]
     },
     "metadata": {
      "needs_background": "light"
     },
     "output_type": "display_data"
    }
   ],
   "source": [
    "# feature_importance = ab.feature_importances_\n",
    "# # make importances relative to max importance\n",
    "# feature_importance = 100.0 * (feature_importance / feature_importance.max())\n",
    "# sorted_idx = np.argsort(feature_importance)\n",
    "# print(sorted_idx)\n",
    "# pos = np.arange(sorted_idx.shape[0]) + .5\n",
    "# f=plt.figure()\n",
    "# f.set_figwidth(10)\n",
    "# f.set_figheight(8)\n",
    "# plt.barh(pos, feature_importance[sorted_idx], align='center')\n",
    "# plt.yticks(pos, X_train.keys()[sorted_idx])\n",
    "# plt.xlabel('Relative Importance')\n",
    "# plt.title('Variable Importance')\n",
    "# plt.show()"
   ]
  },
  {
   "cell_type": "code",
   "execution_count": 25,
   "metadata": {},
   "outputs": [],
   "source": [
    "from sklearn.tree import DecisionTreeRegressor"
   ]
  },
  {
   "cell_type": "code",
   "execution_count": 37,
   "metadata": {},
   "outputs": [],
   "source": [
    "# dt=DecisionTreeRegressor()"
   ]
  },
  {
   "cell_type": "code",
   "execution_count": 38,
   "metadata": {},
   "outputs": [
    {
     "data": {
      "text/plain": [
       "DecisionTreeRegressor()"
      ]
     },
     "execution_count": 38,
     "metadata": {},
     "output_type": "execute_result"
    }
   ],
   "source": [
    "# dt.fit(X_train,y_train)"
   ]
  },
  {
   "cell_type": "code",
   "execution_count": 39,
   "metadata": {},
   "outputs": [
    {
     "data": {
      "text/plain": [
       "0.7050773509081514"
      ]
     },
     "execution_count": 39,
     "metadata": {},
     "output_type": "execute_result"
    }
   ],
   "source": [
    "# dt.score(X_test, y_test)"
   ]
  },
  {
   "cell_type": "code",
   "execution_count": 40,
   "metadata": {},
   "outputs": [
    {
     "name": "stdout",
     "output_type": "stream",
     "text": [
      "[24 23 18 25 20 17 15 19 32 22 30 11  8 14 21 28 16 27 31 13 12 29 10 26\n",
      "  3  4  9  2  1  0  6  5  7]\n"
     ]
    },
    {
     "data": {
      "image/png": "[encoded data removed]",
      "text/plain": [
       "<Figure size 720x576 with 1 Axes>"
      ]
     },
     "metadata": {
      "needs_background": "light"
     },
     "output_type": "display_data"
    }
   ],
   "source": [
    "# feature_importance = dt.feature_importances_\n",
    "# # make importances relative to max importance\n",
    "# feature_importance = 100.0 * (feature_importance / feature_importance.max())\n",
    "# sorted_idx = np.argsort(feature_importance)\n",
    "# print(sorted_idx)\n",
    "# pos = np.arange(sorted_idx.shape[0]) + .5\n",
    "# f=plt.figure()\n",
    "# f.set_figwidth(10)\n",
    "# f.set_figheight(8)\n",
    "# plt.barh(pos, feature_importance[sorted_idx], align='center')\n",
    "# plt.yticks(pos, X_train.keys()[sorted_idx])\n",
    "# plt.xlabel('Relative Importance')\n",
    "# plt.title('Variable Importance')\n",
    "# plt.show()"
   ]
  },
  {
   "cell_type": "code",
   "execution_count": 26,
   "metadata": {},
   "outputs": [],
   "source": [
    "from sklearn.linear_model import ElasticNet"
   ]
  },
  {
   "cell_type": "code",
   "execution_count": 42,
   "metadata": {},
   "outputs": [],
   "source": [
    "# en=ElasticNet(alpha=0.1)"
   ]
  },
  {
   "cell_type": "code",
   "execution_count": 43,
   "metadata": {},
   "outputs": [
    {
     "data": {
      "text/plain": [
       "ElasticNet(alpha=0.1)"
      ]
     },
     "execution_count": 43,
     "metadata": {},
     "output_type": "execute_result"
    }
   ],
   "source": [
    "# en.fit(X_train, y_train)"
   ]
  },
  {
   "cell_type": "code",
   "execution_count": 44,
   "metadata": {},
   "outputs": [
    {
     "data": {
      "text/plain": [
       "0.17009544263784682"
      ]
     },
     "execution_count": 44,
     "metadata": {},
     "output_type": "execute_result"
    }
   ],
   "source": [
    "# en.score(X_test,y_test)"
   ]
  },
  {
   "cell_type": "code",
   "execution_count": 45,
   "metadata": {},
   "outputs": [
    {
     "name": "stdout",
     "output_type": "stream",
     "text": [
      "20 features, reduction of 39.39%\n"
     ]
    },
    {
     "data": {
      "text/plain": [
       "<AxesSubplot:>"
      ]
     },
     "execution_count": 45,
     "metadata": {},
     "output_type": "execute_result"
    },
    {
     "data": {
      "image/png": "[encoded data removed]",
      "text/plain": [
       "<Figure size 1296x432 with 1 Axes>"
      ]
     },
     "metadata": {
      "needs_background": "light"
     },
     "output_type": "display_data"
    }
   ],
   "source": [
    "# feature_importance = pd.Series(index = X_train.columns, data = np.abs(en.coef_))\n",
    "\n",
    "# n_selected_features = (feature_importance>0).sum()\n",
    "# print('{0:d} features, reduction of {1:2.2f}%'.format(\n",
    "#     n_selected_features,(1-n_selected_features/len(feature_importance))*100))\n",
    "\n",
    "# feature_importance.sort_values().tail(30).plot(kind = 'bar', figsize = (18,6))"
   ]
  },
  {
   "cell_type": "code",
   "execution_count": 27,
   "metadata": {},
   "outputs": [],
   "source": [
    "from sklearn.ensemble import VotingRegressor"
   ]
  },
  {
   "cell_type": "code",
   "execution_count": 28,
   "metadata": {},
   "outputs": [],
   "source": [
    "from sklearn.model_selection import train_test_split"
   ]
  },
  {
   "cell_type": "code",
   "execution_count": 29,
   "metadata": {},
   "outputs": [],
   "source": [
    "X_train_sub, X_test_sub, y_train_sub, y_test_sub = train_test_split(X_train, y_train, test_size=0.33, random_state=1)"
   ]
  },
  {
   "cell_type": "code",
   "execution_count": 30,
   "metadata": {},
   "outputs": [],
   "source": [
    "import xgboost as xgb"
   ]
  },
  {
   "cell_type": "code",
   "execution_count": 43,
   "metadata": {},
   "outputs": [],
   "source": [
    "# bst=xgb.train(X_train.values, y_train.values)"
   ]
  },
  {
   "cell_type": "code",
   "execution_count": null,
   "metadata": {},
   "outputs": [],
   "source": [
    "# xgb.fit(X_train,y_train)"
   ]
  },
  {
   "cell_type": "code",
   "execution_count": null,
   "metadata": {},
   "outputs": [],
   "source": [
    "# xgb.score(X_test, y_test)"
   ]
  },
  {
   "cell_type": "code",
   "execution_count": 31,
   "metadata": {},
   "outputs": [],
   "source": [
    "def get_models():\n",
    "    models = list()\n",
    "    models.append(('dt', DecisionTreeRegressor()))\n",
    "    models.append(('gb', GradientBoostingRegressor()))\n",
    "    models.append(('ab', AdaBoostRegressor()))\n",
    "    models.append(('rf', RandomForestRegressor()))\n",
    "    return models"
   ]
  },
  {
   "cell_type": "code",
   "execution_count": 32,
   "metadata": {},
   "outputs": [],
   "source": [
    "from sklearn.metrics import accuracy_score\n",
    "def evaluate(models, X_train, X_test, y_train, y_test):\n",
    "    scores = list()\n",
    "    for name, model in models:\n",
    "        model.fit(X_train, y_train)\n",
    "        score=model.score(X_test,y_test)\n",
    "        scores.append(score)\n",
    "    return scores"
   ]
  },
  {
   "cell_type": "code",
   "execution_count": 33,
   "metadata": {},
   "outputs": [],
   "source": [
    "models=get_models()"
   ]
  },
  {
   "cell_type": "code",
   "execution_count": 34,
   "metadata": {},
   "outputs": [],
   "source": [
    "scores=evaluate(models, X_train_sub, X_test_sub, y_train_sub, y_test_sub)"
   ]
  },
  {
   "cell_type": "code",
   "execution_count": 35,
   "metadata": {},
   "outputs": [],
   "source": [
    "ensemble=VotingRegressor(estimators=models, weights=scores)"
   ]
  },
  {
   "cell_type": "code",
   "execution_count": 36,
   "metadata": {},
   "outputs": [
    {
     "data": {
      "text/plain": [
       "VotingRegressor(estimators=[('dt', DecisionTreeRegressor()),\n",
       "                            ('gb', GradientBoostingRegressor()),\n",
       "                            ('ab', AdaBoostRegressor()),\n",
       "                            ('rf', RandomForestRegressor())],\n",
       "                weights=[0.6947468287389146, 0.5805517593153383,\n",
       "                         0.2607577929477308, 0.8064213448625164])"
      ]
     },
     "execution_count": 36,
     "metadata": {},
     "output_type": "execute_result"
    }
   ],
   "source": [
    "ensemble.fit(X_train, y_train)"
   ]
  },
  {
   "cell_type": "code",
   "execution_count": 37,
   "metadata": {},
   "outputs": [
    {
     "data": {
      "text/plain": [
       "0.7789672012520392"
      ]
     },
     "execution_count": 37,
     "metadata": {},
     "output_type": "execute_result"
    }
   ],
   "source": [
    "ensemble.score(X_test, y_test)"
   ]
  },
  {
   "cell_type": "code",
   "execution_count": 38,
   "metadata": {},
   "outputs": [],
   "source": [
    "def feature_importance(ensemble, weights):\n",
    "    feature_importance = dict()\n",
    "    for est in ensemble.estimators_:\n",
    "        feature_importance[str(est)] = est.feature_importances_\n",
    "    \n",
    "    fe_scores = [0]*len(list(feature_importance.values())[0])\n",
    "    for idx, imp_score in enumerate(feature_importance.values()):\n",
    "        imp_score_with_weight = imp_score*weights[idx]\n",
    "        fe_scores = list(np.add(fe_scores, list(imp_score_with_weight)))\n",
    "    return fe_scores"
   ]
  },
  {
   "cell_type": "code",
   "execution_count": 39,
   "metadata": {},
   "outputs": [
    {
     "data": {
      "text/html": [
       "<div>\n",
       "<style scoped>\n",
       "    .dataframe tbody tr th:only-of-type {\n",
       "        vertical-align: middle;\n",
       "    }\n",
       "\n",
       "    .dataframe tbody tr th {\n",
       "        vertical-align: top;\n",
       "    }\n",
       "\n",
       "    .dataframe thead th {\n",
       "        text-align: right;\n",
       "    }\n",
       "</style>\n",
       "<table border=\"1\" class=\"dataframe\">\n",
       "  <thead>\n",
       "    <tr style=\"text-align: right;\">\n",
       "      <th></th>\n",
       "      <th>Feature</th>\n",
       "      <th>Importance</th>\n",
       "    </tr>\n",
       "  </thead>\n",
       "  <tbody>\n",
       "    <tr>\n",
       "      <th>7</th>\n",
       "      <td>Src_WindSpeed</td>\n",
       "      <td>0.449599</td>\n",
       "    </tr>\n",
       "    <tr>\n",
       "      <th>26</th>\n",
       "      <td>Age</td>\n",
       "      <td>0.230255</td>\n",
       "    </tr>\n",
       "    <tr>\n",
       "      <th>5</th>\n",
       "      <td>Src_Temperature</td>\n",
       "      <td>0.201008</td>\n",
       "    </tr>\n",
       "    <tr>\n",
       "      <th>6</th>\n",
       "      <td>Src_Pressure</td>\n",
       "      <td>0.181992</td>\n",
       "    </tr>\n",
       "    <tr>\n",
       "      <th>0</th>\n",
       "      <td>Speed_MPH</td>\n",
       "      <td>0.152073</td>\n",
       "    </tr>\n",
       "    <tr>\n",
       "      <th>32</th>\n",
       "      <td>Openness</td>\n",
       "      <td>0.148474</td>\n",
       "    </tr>\n",
       "    <tr>\n",
       "      <th>1</th>\n",
       "      <td>ATP</td>\n",
       "      <td>0.123000</td>\n",
       "    </tr>\n",
       "    <tr>\n",
       "      <th>4</th>\n",
       "      <td>FF</td>\n",
       "      <td>0.110942</td>\n",
       "    </tr>\n",
       "    <tr>\n",
       "      <th>9</th>\n",
       "      <td>Day_Day2</td>\n",
       "      <td>0.095747</td>\n",
       "    </tr>\n",
       "    <tr>\n",
       "      <th>3</th>\n",
       "      <td>JF</td>\n",
       "      <td>0.072807</td>\n",
       "    </tr>\n",
       "    <tr>\n",
       "      <th>30</th>\n",
       "      <td>Conscientiousness</td>\n",
       "      <td>0.067295</td>\n",
       "    </tr>\n",
       "    <tr>\n",
       "      <th>2</th>\n",
       "      <td>BP_Hg</td>\n",
       "      <td>0.058978</td>\n",
       "    </tr>\n",
       "    <tr>\n",
       "      <th>35</th>\n",
       "      <td>Trip_Trip1</td>\n",
       "      <td>0.047447</td>\n",
       "    </tr>\n",
       "    <tr>\n",
       "      <th>10</th>\n",
       "      <td>Day_Day3</td>\n",
       "      <td>0.044619</td>\n",
       "    </tr>\n",
       "    <tr>\n",
       "      <th>14</th>\n",
       "      <td>Day_Day7</td>\n",
       "      <td>0.035848</td>\n",
       "    </tr>\n",
       "    <tr>\n",
       "      <th>36</th>\n",
       "      <td>Trip_Trip2</td>\n",
       "      <td>0.032476</td>\n",
       "    </tr>\n",
       "    <tr>\n",
       "      <th>31</th>\n",
       "      <td>Neuroticism</td>\n",
       "      <td>0.031873</td>\n",
       "    </tr>\n",
       "    <tr>\n",
       "      <th>12</th>\n",
       "      <td>Day_Day5</td>\n",
       "      <td>0.030806</td>\n",
       "    </tr>\n",
       "    <tr>\n",
       "      <th>40</th>\n",
       "      <td>Trip_Trip6</td>\n",
       "      <td>0.028996</td>\n",
       "    </tr>\n",
       "    <tr>\n",
       "      <th>28</th>\n",
       "      <td>Extraversion</td>\n",
       "      <td>0.025845</td>\n",
       "    </tr>\n",
       "    <tr>\n",
       "      <th>29</th>\n",
       "      <td>Agreeableness</td>\n",
       "      <td>0.024329</td>\n",
       "    </tr>\n",
       "    <tr>\n",
       "      <th>38</th>\n",
       "      <td>Trip_Trip4</td>\n",
       "      <td>0.022027</td>\n",
       "    </tr>\n",
       "    <tr>\n",
       "      <th>39</th>\n",
       "      <td>Trip_Trip5</td>\n",
       "      <td>0.019351</td>\n",
       "    </tr>\n",
       "    <tr>\n",
       "      <th>23</th>\n",
       "      <td>Des_Weather_Info_Haze</td>\n",
       "      <td>0.012801</td>\n",
       "    </tr>\n",
       "    <tr>\n",
       "      <th>13</th>\n",
       "      <td>Day_Day6</td>\n",
       "      <td>0.011610</td>\n",
       "    </tr>\n",
       "    <tr>\n",
       "      <th>16</th>\n",
       "      <td>Src_Weather_Info_Clouds</td>\n",
       "      <td>0.010695</td>\n",
       "    </tr>\n",
       "    <tr>\n",
       "      <th>8</th>\n",
       "      <td>Day_Day1</td>\n",
       "      <td>0.010660</td>\n",
       "    </tr>\n",
       "    <tr>\n",
       "      <th>22</th>\n",
       "      <td>Des_Weather_Info_Clouds</td>\n",
       "      <td>0.010183</td>\n",
       "    </tr>\n",
       "    <tr>\n",
       "      <th>37</th>\n",
       "      <td>Trip_Trip3</td>\n",
       "      <td>0.009827</td>\n",
       "    </tr>\n",
       "    <tr>\n",
       "      <th>11</th>\n",
       "      <td>Day_Day4</td>\n",
       "      <td>0.008418</td>\n",
       "    </tr>\n",
       "    <tr>\n",
       "      <th>18</th>\n",
       "      <td>Src_Weather_Info_Haze</td>\n",
       "      <td>0.007288</td>\n",
       "    </tr>\n",
       "    <tr>\n",
       "      <th>15</th>\n",
       "      <td>Src_Weather_Info_Clear</td>\n",
       "      <td>0.005703</td>\n",
       "    </tr>\n",
       "    <tr>\n",
       "      <th>27</th>\n",
       "      <td>Trait_Anxiety</td>\n",
       "      <td>0.004757</td>\n",
       "    </tr>\n",
       "    <tr>\n",
       "      <th>34</th>\n",
       "      <td>Gender_Male</td>\n",
       "      <td>0.004606</td>\n",
       "    </tr>\n",
       "    <tr>\n",
       "      <th>21</th>\n",
       "      <td>Des_Weather_Info_Clear</td>\n",
       "      <td>0.002977</td>\n",
       "    </tr>\n",
       "    <tr>\n",
       "      <th>25</th>\n",
       "      <td>Des_Weather_Info_Thunderstorm</td>\n",
       "      <td>0.001660</td>\n",
       "    </tr>\n",
       "    <tr>\n",
       "      <th>33</th>\n",
       "      <td>Gender_Female</td>\n",
       "      <td>0.001566</td>\n",
       "    </tr>\n",
       "    <tr>\n",
       "      <th>20</th>\n",
       "      <td>Src_Weather_Info_Thunderstorm</td>\n",
       "      <td>0.001308</td>\n",
       "    </tr>\n",
       "    <tr>\n",
       "      <th>19</th>\n",
       "      <td>Src_Weather_Info_Mist</td>\n",
       "      <td>0.001185</td>\n",
       "    </tr>\n",
       "    <tr>\n",
       "      <th>24</th>\n",
       "      <td>Des_Weather_Info_Mist</td>\n",
       "      <td>0.000690</td>\n",
       "    </tr>\n",
       "    <tr>\n",
       "      <th>17</th>\n",
       "      <td>Src_Weather_Info_Drizzle</td>\n",
       "      <td>0.000520</td>\n",
       "    </tr>\n",
       "    <tr>\n",
       "      <th>41</th>\n",
       "      <td>Trip_Trip7</td>\n",
       "      <td>0.000236</td>\n",
       "    </tr>\n",
       "  </tbody>\n",
       "</table>\n",
       "</div>"
      ],
      "text/plain": [
       "                          Feature  Importance\n",
       "7                   Src_WindSpeed    0.449599\n",
       "26                            Age    0.230255\n",
       "5                 Src_Temperature    0.201008\n",
       "6                    Src_Pressure    0.181992\n",
       "0                       Speed_MPH    0.152073\n",
       "32                       Openness    0.148474\n",
       "1                             ATP    0.123000\n",
       "4                              FF    0.110942\n",
       "9                        Day_Day2    0.095747\n",
       "3                              JF    0.072807\n",
       "30              Conscientiousness    0.067295\n",
       "2                           BP_Hg    0.058978\n",
       "35                     Trip_Trip1    0.047447\n",
       "10                       Day_Day3    0.044619\n",
       "14                       Day_Day7    0.035848\n",
       "36                     Trip_Trip2    0.032476\n",
       "31                    Neuroticism    0.031873\n",
       "12                       Day_Day5    0.030806\n",
       "40                     Trip_Trip6    0.028996\n",
       "28                   Extraversion    0.025845\n",
       "29                  Agreeableness    0.024329\n",
       "38                     Trip_Trip4    0.022027\n",
       "39                     Trip_Trip5    0.019351\n",
       "23          Des_Weather_Info_Haze    0.012801\n",
       "13                       Day_Day6    0.011610\n",
       "16        Src_Weather_Info_Clouds    0.010695\n",
       "8                        Day_Day1    0.010660\n",
       "22        Des_Weather_Info_Clouds    0.010183\n",
       "37                     Trip_Trip3    0.009827\n",
       "11                       Day_Day4    0.008418\n",
       "18          Src_Weather_Info_Haze    0.007288\n",
       "15         Src_Weather_Info_Clear    0.005703\n",
       "27                  Trait_Anxiety    0.004757\n",
       "34                    Gender_Male    0.004606\n",
       "21         Des_Weather_Info_Clear    0.002977\n",
       "25  Des_Weather_Info_Thunderstorm    0.001660\n",
       "33                  Gender_Female    0.001566\n",
       "20  Src_Weather_Info_Thunderstorm    0.001308\n",
       "19          Src_Weather_Info_Mist    0.001185\n",
       "24          Des_Weather_Info_Mist    0.000690\n",
       "17       Src_Weather_Info_Drizzle    0.000520\n",
       "41                     Trip_Trip7    0.000236"
      ]
     },
     "execution_count": 39,
     "metadata": {},
     "output_type": "execute_result"
    }
   ],
   "source": [
    "final_df=pd.DataFrame()\n",
    "final_df['Feature']=X_train.columns\n",
    "final_df['Importance']=feature_importance(ensemble, scores)\n",
    "final_df.sort_values('Importance', ascending=False)"
   ]
  },
  {
   "cell_type": "code",
   "execution_count": 40,
   "metadata": {},
   "outputs": [
    {
     "data": {
      "image/png": "[encoded data removed]",
      "text/plain": [
       "<Figure size 1080x720 with 1 Axes>"
      ]
     },
     "metadata": {
      "needs_background": "light"
     },
     "output_type": "display_data"
    }
   ],
   "source": [
    "ax = final_df.plot.barh(x='Feature',y='Importance', rot=0, figsize=(15,10))"
   ]
  },
  {
   "cell_type": "markdown",
   "metadata": {},
   "source": [
    "As we can see, wind speed, pressure, and temperature are the best predictors of BPM according to the models. Wind speed and pressure are plausible, but temperature seems a little weird. "
   ]
  },
  {
   "cell_type": "markdown",
   "metadata": {},
   "source": [
    "## Predict BPM Div"
   ]
  },
  {
   "cell_type": "code",
   "execution_count": 45,
   "metadata": {},
   "outputs": [],
   "source": [
    "temp=df_2['BPM Div']\n",
    "df_4=df_2.drop(['BPM', 'BPM Div'], axis=1)\n",
    "Y=temp.values\n",
    "X=df_2.values"
   ]
  },
  {
   "cell_type": "code",
   "execution_count": 47,
   "metadata": {},
   "outputs": [],
   "source": [
    "for train_index,val_index in kf.split(X):\n",
    "    X_train,X_test = df_4.iloc[train_index],df_4.iloc[val_index],\n",
    "    y_train,y_test = temp.iloc[train_index],temp.iloc[val_index]"
   ]
  },
  {
   "cell_type": "code",
   "execution_count": 48,
   "metadata": {},
   "outputs": [],
   "source": [
    "X_train_sub, X_test_sub, y_train_sub, y_test_sub = train_test_split(X_train, y_train, test_size=0.33, random_state=1)"
   ]
  },
  {
   "cell_type": "code",
   "execution_count": 49,
   "metadata": {},
   "outputs": [],
   "source": [
    "models=get_models()"
   ]
  },
  {
   "cell_type": "code",
   "execution_count": 50,
   "metadata": {},
   "outputs": [],
   "source": [
    "scores=evaluate(models, X_train_sub, X_test_sub, y_train_sub, y_test_sub)"
   ]
  },
  {
   "cell_type": "code",
   "execution_count": 51,
   "metadata": {},
   "outputs": [],
   "source": [
    "ensemble=VotingRegressor(estimators=models, weights=scores)"
   ]
  },
  {
   "cell_type": "code",
   "execution_count": 52,
   "metadata": {},
   "outputs": [
    {
     "data": {
      "text/plain": [
       "VotingRegressor(estimators=[('dt', DecisionTreeRegressor()),\n",
       "                            ('gb', GradientBoostingRegressor()),\n",
       "                            ('ab', AdaBoostRegressor()),\n",
       "                            ('rf', RandomForestRegressor())],\n",
       "                weights=[0.6917800677231698, 0.572184690470988,\n",
       "                         0.19878524277556653, 0.8026460972406031])"
      ]
     },
     "execution_count": 52,
     "metadata": {},
     "output_type": "execute_result"
    }
   ],
   "source": [
    "ensemble.fit(X_train, y_train)"
   ]
  },
  {
   "cell_type": "code",
   "execution_count": 53,
   "metadata": {},
   "outputs": [
    {
     "data": {
      "text/plain": [
       "0.7793456272954613"
      ]
     },
     "execution_count": 53,
     "metadata": {},
     "output_type": "execute_result"
    }
   ],
   "source": [
    "ensemble.score(X_test, y_test)"
   ]
  },
  {
   "cell_type": "code",
   "execution_count": 54,
   "metadata": {},
   "outputs": [
    {
     "data": {
      "text/html": [
       "<div>\n",
       "<style scoped>\n",
       "    .dataframe tbody tr th:only-of-type {\n",
       "        vertical-align: middle;\n",
       "    }\n",
       "\n",
       "    .dataframe tbody tr th {\n",
       "        vertical-align: top;\n",
       "    }\n",
       "\n",
       "    .dataframe thead th {\n",
       "        text-align: right;\n",
       "    }\n",
       "</style>\n",
       "<table border=\"1\" class=\"dataframe\">\n",
       "  <thead>\n",
       "    <tr style=\"text-align: right;\">\n",
       "      <th></th>\n",
       "      <th>Feature</th>\n",
       "      <th>Importance</th>\n",
       "    </tr>\n",
       "  </thead>\n",
       "  <tbody>\n",
       "    <tr>\n",
       "      <th>7</th>\n",
       "      <td>Src_WindSpeed</td>\n",
       "      <td>0.374934</td>\n",
       "    </tr>\n",
       "    <tr>\n",
       "      <th>5</th>\n",
       "      <td>Src_Temperature</td>\n",
       "      <td>0.251630</td>\n",
       "    </tr>\n",
       "    <tr>\n",
       "      <th>6</th>\n",
       "      <td>Src_Pressure</td>\n",
       "      <td>0.166099</td>\n",
       "    </tr>\n",
       "    <tr>\n",
       "      <th>26</th>\n",
       "      <td>Age</td>\n",
       "      <td>0.160968</td>\n",
       "    </tr>\n",
       "    <tr>\n",
       "      <th>0</th>\n",
       "      <td>Speed_MPH</td>\n",
       "      <td>0.152983</td>\n",
       "    </tr>\n",
       "    <tr>\n",
       "      <th>1</th>\n",
       "      <td>ATP</td>\n",
       "      <td>0.119746</td>\n",
       "    </tr>\n",
       "    <tr>\n",
       "      <th>4</th>\n",
       "      <td>FF</td>\n",
       "      <td>0.104577</td>\n",
       "    </tr>\n",
       "    <tr>\n",
       "      <th>3</th>\n",
       "      <td>JF</td>\n",
       "      <td>0.086466</td>\n",
       "    </tr>\n",
       "    <tr>\n",
       "      <th>32</th>\n",
       "      <td>Openness</td>\n",
       "      <td>0.079224</td>\n",
       "    </tr>\n",
       "    <tr>\n",
       "      <th>28</th>\n",
       "      <td>Extraversion</td>\n",
       "      <td>0.070456</td>\n",
       "    </tr>\n",
       "    <tr>\n",
       "      <th>31</th>\n",
       "      <td>Neuroticism</td>\n",
       "      <td>0.069428</td>\n",
       "    </tr>\n",
       "    <tr>\n",
       "      <th>9</th>\n",
       "      <td>Day_Day2</td>\n",
       "      <td>0.067435</td>\n",
       "    </tr>\n",
       "    <tr>\n",
       "      <th>2</th>\n",
       "      <td>BP_Hg</td>\n",
       "      <td>0.056529</td>\n",
       "    </tr>\n",
       "    <tr>\n",
       "      <th>30</th>\n",
       "      <td>Conscientiousness</td>\n",
       "      <td>0.046605</td>\n",
       "    </tr>\n",
       "    <tr>\n",
       "      <th>38</th>\n",
       "      <td>Trip_Trip4</td>\n",
       "      <td>0.043493</td>\n",
       "    </tr>\n",
       "    <tr>\n",
       "      <th>35</th>\n",
       "      <td>Trip_Trip1</td>\n",
       "      <td>0.041374</td>\n",
       "    </tr>\n",
       "    <tr>\n",
       "      <th>10</th>\n",
       "      <td>Day_Day3</td>\n",
       "      <td>0.038589</td>\n",
       "    </tr>\n",
       "    <tr>\n",
       "      <th>14</th>\n",
       "      <td>Day_Day7</td>\n",
       "      <td>0.034113</td>\n",
       "    </tr>\n",
       "    <tr>\n",
       "      <th>8</th>\n",
       "      <td>Day_Day1</td>\n",
       "      <td>0.033159</td>\n",
       "    </tr>\n",
       "    <tr>\n",
       "      <th>12</th>\n",
       "      <td>Day_Day5</td>\n",
       "      <td>0.031962</td>\n",
       "    </tr>\n",
       "    <tr>\n",
       "      <th>40</th>\n",
       "      <td>Trip_Trip6</td>\n",
       "      <td>0.030665</td>\n",
       "    </tr>\n",
       "    <tr>\n",
       "      <th>29</th>\n",
       "      <td>Agreeableness</td>\n",
       "      <td>0.029000</td>\n",
       "    </tr>\n",
       "    <tr>\n",
       "      <th>11</th>\n",
       "      <td>Day_Day4</td>\n",
       "      <td>0.024140</td>\n",
       "    </tr>\n",
       "    <tr>\n",
       "      <th>36</th>\n",
       "      <td>Trip_Trip2</td>\n",
       "      <td>0.021606</td>\n",
       "    </tr>\n",
       "    <tr>\n",
       "      <th>37</th>\n",
       "      <td>Trip_Trip3</td>\n",
       "      <td>0.021024</td>\n",
       "    </tr>\n",
       "    <tr>\n",
       "      <th>13</th>\n",
       "      <td>Day_Day6</td>\n",
       "      <td>0.019225</td>\n",
       "    </tr>\n",
       "    <tr>\n",
       "      <th>18</th>\n",
       "      <td>Src_Weather_Info_Haze</td>\n",
       "      <td>0.016213</td>\n",
       "    </tr>\n",
       "    <tr>\n",
       "      <th>27</th>\n",
       "      <td>Trait_Anxiety</td>\n",
       "      <td>0.012396</td>\n",
       "    </tr>\n",
       "    <tr>\n",
       "      <th>39</th>\n",
       "      <td>Trip_Trip5</td>\n",
       "      <td>0.011506</td>\n",
       "    </tr>\n",
       "    <tr>\n",
       "      <th>22</th>\n",
       "      <td>Des_Weather_Info_Clouds</td>\n",
       "      <td>0.009883</td>\n",
       "    </tr>\n",
       "    <tr>\n",
       "      <th>16</th>\n",
       "      <td>Src_Weather_Info_Clouds</td>\n",
       "      <td>0.008106</td>\n",
       "    </tr>\n",
       "    <tr>\n",
       "      <th>15</th>\n",
       "      <td>Src_Weather_Info_Clear</td>\n",
       "      <td>0.007964</td>\n",
       "    </tr>\n",
       "    <tr>\n",
       "      <th>21</th>\n",
       "      <td>Des_Weather_Info_Clear</td>\n",
       "      <td>0.007342</td>\n",
       "    </tr>\n",
       "    <tr>\n",
       "      <th>19</th>\n",
       "      <td>Src_Weather_Info_Mist</td>\n",
       "      <td>0.003433</td>\n",
       "    </tr>\n",
       "    <tr>\n",
       "      <th>34</th>\n",
       "      <td>Gender_Male</td>\n",
       "      <td>0.003124</td>\n",
       "    </tr>\n",
       "    <tr>\n",
       "      <th>25</th>\n",
       "      <td>Des_Weather_Info_Thunderstorm</td>\n",
       "      <td>0.002936</td>\n",
       "    </tr>\n",
       "    <tr>\n",
       "      <th>20</th>\n",
       "      <td>Src_Weather_Info_Thunderstorm</td>\n",
       "      <td>0.001595</td>\n",
       "    </tr>\n",
       "    <tr>\n",
       "      <th>41</th>\n",
       "      <td>Trip_Trip7</td>\n",
       "      <td>0.001551</td>\n",
       "    </tr>\n",
       "    <tr>\n",
       "      <th>33</th>\n",
       "      <td>Gender_Female</td>\n",
       "      <td>0.001110</td>\n",
       "    </tr>\n",
       "    <tr>\n",
       "      <th>24</th>\n",
       "      <td>Des_Weather_Info_Mist</td>\n",
       "      <td>0.001058</td>\n",
       "    </tr>\n",
       "    <tr>\n",
       "      <th>17</th>\n",
       "      <td>Src_Weather_Info_Drizzle</td>\n",
       "      <td>0.001052</td>\n",
       "    </tr>\n",
       "    <tr>\n",
       "      <th>23</th>\n",
       "      <td>Des_Weather_Info_Haze</td>\n",
       "      <td>0.000699</td>\n",
       "    </tr>\n",
       "  </tbody>\n",
       "</table>\n",
       "</div>"
      ],
      "text/plain": [
       "                          Feature  Importance\n",
       "7                   Src_WindSpeed    0.374934\n",
       "5                 Src_Temperature    0.251630\n",
       "6                    Src_Pressure    0.166099\n",
       "26                            Age    0.160968\n",
       "0                       Speed_MPH    0.152983\n",
       "1                             ATP    0.119746\n",
       "4                              FF    0.104577\n",
       "3                              JF    0.086466\n",
       "32                       Openness    0.079224\n",
       "28                   Extraversion    0.070456\n",
       "31                    Neuroticism    0.069428\n",
       "9                        Day_Day2    0.067435\n",
       "2                           BP_Hg    0.056529\n",
       "30              Conscientiousness    0.046605\n",
       "38                     Trip_Trip4    0.043493\n",
       "35                     Trip_Trip1    0.041374\n",
       "10                       Day_Day3    0.038589\n",
       "14                       Day_Day7    0.034113\n",
       "8                        Day_Day1    0.033159\n",
       "12                       Day_Day5    0.031962\n",
       "40                     Trip_Trip6    0.030665\n",
       "29                  Agreeableness    0.029000\n",
       "11                       Day_Day4    0.024140\n",
       "36                     Trip_Trip2    0.021606\n",
       "37                     Trip_Trip3    0.021024\n",
       "13                       Day_Day6    0.019225\n",
       "18          Src_Weather_Info_Haze    0.016213\n",
       "27                  Trait_Anxiety    0.012396\n",
       "39                     Trip_Trip5    0.011506\n",
       "22        Des_Weather_Info_Clouds    0.009883\n",
       "16        Src_Weather_Info_Clouds    0.008106\n",
       "15         Src_Weather_Info_Clear    0.007964\n",
       "21         Des_Weather_Info_Clear    0.007342\n",
       "19          Src_Weather_Info_Mist    0.003433\n",
       "34                    Gender_Male    0.003124\n",
       "25  Des_Weather_Info_Thunderstorm    0.002936\n",
       "20  Src_Weather_Info_Thunderstorm    0.001595\n",
       "41                     Trip_Trip7    0.001551\n",
       "33                  Gender_Female    0.001110\n",
       "24          Des_Weather_Info_Mist    0.001058\n",
       "17       Src_Weather_Info_Drizzle    0.001052\n",
       "23          Des_Weather_Info_Haze    0.000699"
      ]
     },
     "execution_count": 54,
     "metadata": {},
     "output_type": "execute_result"
    }
   ],
   "source": [
    "final_df=pd.DataFrame()\n",
    "final_df['Feature']=X_train.columns\n",
    "final_df['Importance']=feature_importance(ensemble, scores)\n",
    "final_df.sort_values('Importance', ascending=False)"
   ]
  },
  {
   "cell_type": "code",
   "execution_count": 55,
   "metadata": {},
   "outputs": [
    {
     "data": {
      "image/png": "[encoded data removed]",
      "text/plain": [
       "<Figure size 1080x720 with 1 Axes>"
      ]
     },
     "metadata": {
      "needs_background": "light"
     },
     "output_type": "display_data"
    }
   ],
   "source": [
    "ax = final_df.plot.barh(x='Feature',y='Importance', rot=0, figsize=(15,10))"
   ]
  },
  {
   "cell_type": "markdown",
   "metadata": {},
   "source": [
    "No notable difference between when BPM is subtracted or divided, as suspected. "
   ]
  },
  {
   "cell_type": "markdown",
   "metadata": {},
   "source": [
    "# Normalizing the Data to check if anything changes"
   ]
  },
  {
   "cell_type": "code",
   "execution_count": 49,
   "metadata": {},
   "outputs": [],
   "source": [
    "normalized_df=(df_2-df_2.min())/(df_2.max()-df_2.min())"
   ]
  },
  {
   "cell_type": "code",
   "execution_count": 50,
   "metadata": {},
   "outputs": [],
   "source": [
    "temp=normalized_df['BPM']\n",
    "df_5=normalized_df.drop(['BPM'], axis=1)\n",
    "Y=temp.values\n",
    "X=normalized_df.values"
   ]
  },
  {
   "cell_type": "code",
   "execution_count": 51,
   "metadata": {},
   "outputs": [],
   "source": [
    "for train_index,val_index in kf.split(X):\n",
    "    X_train,X_test = df_5.iloc[train_index],df_5.iloc[val_index],\n",
    "    y_train,y_test = temp.iloc[train_index],temp.iloc[val_index]"
   ]
  },
  {
   "cell_type": "code",
   "execution_count": 52,
   "metadata": {},
   "outputs": [],
   "source": [
    "X_train_sub, X_test_sub, y_train_sub, y_test_sub = train_test_split(X_train, y_train, test_size=0.33, random_state=1)"
   ]
  },
  {
   "cell_type": "code",
   "execution_count": 53,
   "metadata": {},
   "outputs": [],
   "source": [
    "scores=evaluate(models, X_train_sub, X_test_sub, y_train_sub, y_test_sub)"
   ]
  },
  {
   "cell_type": "code",
   "execution_count": 54,
   "metadata": {},
   "outputs": [],
   "source": [
    "ensemble=VotingRegressor(estimators=models, weights=scores)"
   ]
  },
  {
   "cell_type": "code",
   "execution_count": 55,
   "metadata": {},
   "outputs": [
    {
     "data": {
      "text/plain": [
       "VotingRegressor(estimators=[('dt', DecisionTreeRegressor()),\n",
       "                            ('gb', GradientBoostingRegressor()),\n",
       "                            ('ab', AdaBoostRegressor()),\n",
       "                            ('rf', RandomForestRegressor())],\n",
       "                weights=[0.7705439204532545, 0.7149363419386653,\n",
       "                         0.4342777723906014, 0.8571083326644529])"
      ]
     },
     "execution_count": 55,
     "metadata": {},
     "output_type": "execute_result"
    }
   ],
   "source": [
    "ensemble.fit(X_train, y_train)"
   ]
  },
  {
   "cell_type": "code",
   "execution_count": 56,
   "metadata": {},
   "outputs": [
    {
     "data": {
      "text/plain": [
       "0.8287418701072775"
      ]
     },
     "execution_count": 56,
     "metadata": {},
     "output_type": "execute_result"
    }
   ],
   "source": [
    "ensemble.score(X_test, y_test)"
   ]
  },
  {
   "cell_type": "code",
   "execution_count": 57,
   "metadata": {},
   "outputs": [
    {
     "data": {
      "text/html": [
       "<div>\n",
       "<style scoped>\n",
       "    .dataframe tbody tr th:only-of-type {\n",
       "        vertical-align: middle;\n",
       "    }\n",
       "\n",
       "    .dataframe tbody tr th {\n",
       "        vertical-align: top;\n",
       "    }\n",
       "\n",
       "    .dataframe thead th {\n",
       "        text-align: right;\n",
       "    }\n",
       "</style>\n",
       "<table border=\"1\" class=\"dataframe\">\n",
       "  <thead>\n",
       "    <tr style=\"text-align: right;\">\n",
       "      <th></th>\n",
       "      <th>Feature</th>\n",
       "      <th>Importance</th>\n",
       "    </tr>\n",
       "  </thead>\n",
       "  <tbody>\n",
       "    <tr>\n",
       "      <th>26</th>\n",
       "      <td>Age</td>\n",
       "      <td>0.622255</td>\n",
       "    </tr>\n",
       "    <tr>\n",
       "      <th>7</th>\n",
       "      <td>Src_WindSpeed</td>\n",
       "      <td>0.264735</td>\n",
       "    </tr>\n",
       "    <tr>\n",
       "      <th>27</th>\n",
       "      <td>Trait_Anxiety</td>\n",
       "      <td>0.257459</td>\n",
       "    </tr>\n",
       "    <tr>\n",
       "      <th>28</th>\n",
       "      <td>Extraversion</td>\n",
       "      <td>0.217122</td>\n",
       "    </tr>\n",
       "    <tr>\n",
       "      <th>5</th>\n",
       "      <td>Src_Temperature</td>\n",
       "      <td>0.181827</td>\n",
       "    </tr>\n",
       "    <tr>\n",
       "      <th>6</th>\n",
       "      <td>Src_Pressure</td>\n",
       "      <td>0.167389</td>\n",
       "    </tr>\n",
       "    <tr>\n",
       "      <th>9</th>\n",
       "      <td>Day_Day2</td>\n",
       "      <td>0.167053</td>\n",
       "    </tr>\n",
       "    <tr>\n",
       "      <th>0</th>\n",
       "      <td>Speed_MPH</td>\n",
       "      <td>0.123438</td>\n",
       "    </tr>\n",
       "    <tr>\n",
       "      <th>4</th>\n",
       "      <td>FF</td>\n",
       "      <td>0.122016</td>\n",
       "    </tr>\n",
       "    <tr>\n",
       "      <th>1</th>\n",
       "      <td>ATP</td>\n",
       "      <td>0.091946</td>\n",
       "    </tr>\n",
       "    <tr>\n",
       "      <th>30</th>\n",
       "      <td>Conscientiousness</td>\n",
       "      <td>0.083833</td>\n",
       "    </tr>\n",
       "    <tr>\n",
       "      <th>3</th>\n",
       "      <td>JF</td>\n",
       "      <td>0.068446</td>\n",
       "    </tr>\n",
       "    <tr>\n",
       "      <th>2</th>\n",
       "      <td>BP_Hg</td>\n",
       "      <td>0.060159</td>\n",
       "    </tr>\n",
       "    <tr>\n",
       "      <th>32</th>\n",
       "      <td>Openness</td>\n",
       "      <td>0.044574</td>\n",
       "    </tr>\n",
       "    <tr>\n",
       "      <th>35</th>\n",
       "      <td>Trip_Trip1</td>\n",
       "      <td>0.033563</td>\n",
       "    </tr>\n",
       "    <tr>\n",
       "      <th>11</th>\n",
       "      <td>Day_Day4</td>\n",
       "      <td>0.033374</td>\n",
       "    </tr>\n",
       "    <tr>\n",
       "      <th>29</th>\n",
       "      <td>Agreeableness</td>\n",
       "      <td>0.028108</td>\n",
       "    </tr>\n",
       "    <tr>\n",
       "      <th>14</th>\n",
       "      <td>Day_Day7</td>\n",
       "      <td>0.024334</td>\n",
       "    </tr>\n",
       "    <tr>\n",
       "      <th>12</th>\n",
       "      <td>Day_Day5</td>\n",
       "      <td>0.022021</td>\n",
       "    </tr>\n",
       "    <tr>\n",
       "      <th>40</th>\n",
       "      <td>Trip_Trip6</td>\n",
       "      <td>0.021550</td>\n",
       "    </tr>\n",
       "    <tr>\n",
       "      <th>15</th>\n",
       "      <td>Src_Weather_Info_Clear</td>\n",
       "      <td>0.021414</td>\n",
       "    </tr>\n",
       "    <tr>\n",
       "      <th>36</th>\n",
       "      <td>Trip_Trip2</td>\n",
       "      <td>0.014809</td>\n",
       "    </tr>\n",
       "    <tr>\n",
       "      <th>13</th>\n",
       "      <td>Day_Day6</td>\n",
       "      <td>0.014596</td>\n",
       "    </tr>\n",
       "    <tr>\n",
       "      <th>8</th>\n",
       "      <td>Day_Day1</td>\n",
       "      <td>0.013710</td>\n",
       "    </tr>\n",
       "    <tr>\n",
       "      <th>39</th>\n",
       "      <td>Trip_Trip5</td>\n",
       "      <td>0.011170</td>\n",
       "    </tr>\n",
       "    <tr>\n",
       "      <th>21</th>\n",
       "      <td>Des_Weather_Info_Clear</td>\n",
       "      <td>0.010459</td>\n",
       "    </tr>\n",
       "    <tr>\n",
       "      <th>38</th>\n",
       "      <td>Trip_Trip4</td>\n",
       "      <td>0.009279</td>\n",
       "    </tr>\n",
       "    <tr>\n",
       "      <th>10</th>\n",
       "      <td>Day_Day3</td>\n",
       "      <td>0.008741</td>\n",
       "    </tr>\n",
       "    <tr>\n",
       "      <th>31</th>\n",
       "      <td>Neuroticism</td>\n",
       "      <td>0.008157</td>\n",
       "    </tr>\n",
       "    <tr>\n",
       "      <th>18</th>\n",
       "      <td>Src_Weather_Info_Haze</td>\n",
       "      <td>0.005745</td>\n",
       "    </tr>\n",
       "    <tr>\n",
       "      <th>22</th>\n",
       "      <td>Des_Weather_Info_Clouds</td>\n",
       "      <td>0.005444</td>\n",
       "    </tr>\n",
       "    <tr>\n",
       "      <th>16</th>\n",
       "      <td>Src_Weather_Info_Clouds</td>\n",
       "      <td>0.005236</td>\n",
       "    </tr>\n",
       "    <tr>\n",
       "      <th>34</th>\n",
       "      <td>Gender_Male</td>\n",
       "      <td>0.003673</td>\n",
       "    </tr>\n",
       "    <tr>\n",
       "      <th>37</th>\n",
       "      <td>Trip_Trip3</td>\n",
       "      <td>0.003582</td>\n",
       "    </tr>\n",
       "    <tr>\n",
       "      <th>24</th>\n",
       "      <td>Des_Weather_Info_Mist</td>\n",
       "      <td>0.002213</td>\n",
       "    </tr>\n",
       "    <tr>\n",
       "      <th>20</th>\n",
       "      <td>Src_Weather_Info_Thunderstorm</td>\n",
       "      <td>0.001301</td>\n",
       "    </tr>\n",
       "    <tr>\n",
       "      <th>19</th>\n",
       "      <td>Src_Weather_Info_Mist</td>\n",
       "      <td>0.000833</td>\n",
       "    </tr>\n",
       "    <tr>\n",
       "      <th>25</th>\n",
       "      <td>Des_Weather_Info_Thunderstorm</td>\n",
       "      <td>0.000752</td>\n",
       "    </tr>\n",
       "    <tr>\n",
       "      <th>33</th>\n",
       "      <td>Gender_Female</td>\n",
       "      <td>0.000368</td>\n",
       "    </tr>\n",
       "    <tr>\n",
       "      <th>23</th>\n",
       "      <td>Des_Weather_Info_Haze</td>\n",
       "      <td>0.000095</td>\n",
       "    </tr>\n",
       "    <tr>\n",
       "      <th>41</th>\n",
       "      <td>Trip_Trip7</td>\n",
       "      <td>0.000050</td>\n",
       "    </tr>\n",
       "    <tr>\n",
       "      <th>17</th>\n",
       "      <td>Src_Weather_Info_Drizzle</td>\n",
       "      <td>0.000037</td>\n",
       "    </tr>\n",
       "  </tbody>\n",
       "</table>\n",
       "</div>"
      ],
      "text/plain": [
       "                          Feature  Importance\n",
       "26                            Age    0.622255\n",
       "7                   Src_WindSpeed    0.264735\n",
       "27                  Trait_Anxiety    0.257459\n",
       "28                   Extraversion    0.217122\n",
       "5                 Src_Temperature    0.181827\n",
       "6                    Src_Pressure    0.167389\n",
       "9                        Day_Day2    0.167053\n",
       "0                       Speed_MPH    0.123438\n",
       "4                              FF    0.122016\n",
       "1                             ATP    0.091946\n",
       "30              Conscientiousness    0.083833\n",
       "3                              JF    0.068446\n",
       "2                           BP_Hg    0.060159\n",
       "32                       Openness    0.044574\n",
       "35                     Trip_Trip1    0.033563\n",
       "11                       Day_Day4    0.033374\n",
       "29                  Agreeableness    0.028108\n",
       "14                       Day_Day7    0.024334\n",
       "12                       Day_Day5    0.022021\n",
       "40                     Trip_Trip6    0.021550\n",
       "15         Src_Weather_Info_Clear    0.021414\n",
       "36                     Trip_Trip2    0.014809\n",
       "13                       Day_Day6    0.014596\n",
       "8                        Day_Day1    0.013710\n",
       "39                     Trip_Trip5    0.011170\n",
       "21         Des_Weather_Info_Clear    0.010459\n",
       "38                     Trip_Trip4    0.009279\n",
       "10                       Day_Day3    0.008741\n",
       "31                    Neuroticism    0.008157\n",
       "18          Src_Weather_Info_Haze    0.005745\n",
       "22        Des_Weather_Info_Clouds    0.005444\n",
       "16        Src_Weather_Info_Clouds    0.005236\n",
       "34                    Gender_Male    0.003673\n",
       "37                     Trip_Trip3    0.003582\n",
       "24          Des_Weather_Info_Mist    0.002213\n",
       "20  Src_Weather_Info_Thunderstorm    0.001301\n",
       "19          Src_Weather_Info_Mist    0.000833\n",
       "25  Des_Weather_Info_Thunderstorm    0.000752\n",
       "33                  Gender_Female    0.000368\n",
       "23          Des_Weather_Info_Haze    0.000095\n",
       "41                     Trip_Trip7    0.000050\n",
       "17       Src_Weather_Info_Drizzle    0.000037"
      ]
     },
     "execution_count": 57,
     "metadata": {},
     "output_type": "execute_result"
    }
   ],
   "source": [
    "final_df=pd.DataFrame()\n",
    "final_df['Feature']=X_train.columns\n",
    "final_df['Importance']=feature_importance(ensemble, scores)\n",
    "final_df.sort_values('Importance', ascending=False)"
   ]
  },
  {
   "cell_type": "code",
   "execution_count": 58,
   "metadata": {},
   "outputs": [
    {
     "data": {
      "image/png": "[encoded data removed]",
      "text/plain": [
       "<Figure size 1080x720 with 1 Axes>"
      ]
     },
     "metadata": {
      "needs_background": "light"
     },
     "output_type": "display_data"
    }
   ],
   "source": [
    "ax = final_df.plot.barh(x='Feature',y='Importance', rot=0, figsize=(15,10))"
   ]
  },
  {
   "cell_type": "code",
   "execution_count": 59,
   "metadata": {},
   "outputs": [
    {
     "data": {
      "text/html": [
       "<div>\n",
       "<style scoped>\n",
       "    .dataframe tbody tr th:only-of-type {\n",
       "        vertical-align: middle;\n",
       "    }\n",
       "\n",
       "    .dataframe tbody tr th {\n",
       "        vertical-align: top;\n",
       "    }\n",
       "\n",
       "    .dataframe thead th {\n",
       "        text-align: right;\n",
       "    }\n",
       "</style>\n",
       "<table border=\"1\" class=\"dataframe\">\n",
       "  <thead>\n",
       "    <tr style=\"text-align: right;\">\n",
       "      <th></th>\n",
       "      <th>Speed_MPH</th>\n",
       "      <th>ATP</th>\n",
       "      <th>BP_Hg</th>\n",
       "      <th>BPM</th>\n",
       "      <th>JF</th>\n",
       "      <th>FF</th>\n",
       "      <th>Src_Temperature</th>\n",
       "      <th>Src_Pressure</th>\n",
       "      <th>Src_WindSpeed</th>\n",
       "      <th>Day_Day1</th>\n",
       "      <th>...</th>\n",
       "      <th>Openness</th>\n",
       "      <th>Gender_Female</th>\n",
       "      <th>Gender_Male</th>\n",
       "      <th>Trip_Trip1</th>\n",
       "      <th>Trip_Trip2</th>\n",
       "      <th>Trip_Trip3</th>\n",
       "      <th>Trip_Trip4</th>\n",
       "      <th>Trip_Trip5</th>\n",
       "      <th>Trip_Trip6</th>\n",
       "      <th>Trip_Trip7</th>\n",
       "    </tr>\n",
       "  </thead>\n",
       "  <tbody>\n",
       "    <tr>\n",
       "      <th>8906</th>\n",
       "      <td>0.207071</td>\n",
       "      <td>0.185714</td>\n",
       "      <td>0.764550</td>\n",
       "      <td>0.250000</td>\n",
       "      <td>0.246125</td>\n",
       "      <td>0.269353</td>\n",
       "      <td>0.545894</td>\n",
       "      <td>0.666667</td>\n",
       "      <td>0.428808</td>\n",
       "      <td>0.0</td>\n",
       "      <td>...</td>\n",
       "      <td>0.428571</td>\n",
       "      <td>1.0</td>\n",
       "      <td>0.0</td>\n",
       "      <td>1.0</td>\n",
       "      <td>0.0</td>\n",
       "      <td>0.0</td>\n",
       "      <td>0.0</td>\n",
       "      <td>0.0</td>\n",
       "      <td>0.0</td>\n",
       "      <td>0.0</td>\n",
       "    </tr>\n",
       "    <tr>\n",
       "      <th>8911</th>\n",
       "      <td>0.095960</td>\n",
       "      <td>0.219780</td>\n",
       "      <td>0.764550</td>\n",
       "      <td>0.278846</td>\n",
       "      <td>0.221750</td>\n",
       "      <td>0.284720</td>\n",
       "      <td>0.545894</td>\n",
       "      <td>0.666667</td>\n",
       "      <td>0.428808</td>\n",
       "      <td>0.0</td>\n",
       "      <td>...</td>\n",
       "      <td>0.428571</td>\n",
       "      <td>1.0</td>\n",
       "      <td>0.0</td>\n",
       "      <td>1.0</td>\n",
       "      <td>0.0</td>\n",
       "      <td>0.0</td>\n",
       "      <td>0.0</td>\n",
       "      <td>0.0</td>\n",
       "      <td>0.0</td>\n",
       "      <td>0.0</td>\n",
       "    </tr>\n",
       "    <tr>\n",
       "      <th>8912</th>\n",
       "      <td>0.222222</td>\n",
       "      <td>0.182418</td>\n",
       "      <td>0.764550</td>\n",
       "      <td>0.250000</td>\n",
       "      <td>0.246125</td>\n",
       "      <td>0.269353</td>\n",
       "      <td>0.545894</td>\n",
       "      <td>0.666667</td>\n",
       "      <td>0.428808</td>\n",
       "      <td>0.0</td>\n",
       "      <td>...</td>\n",
       "      <td>0.428571</td>\n",
       "      <td>1.0</td>\n",
       "      <td>0.0</td>\n",
       "      <td>1.0</td>\n",
       "      <td>0.0</td>\n",
       "      <td>0.0</td>\n",
       "      <td>0.0</td>\n",
       "      <td>0.0</td>\n",
       "      <td>0.0</td>\n",
       "      <td>0.0</td>\n",
       "    </tr>\n",
       "    <tr>\n",
       "      <th>8920</th>\n",
       "      <td>0.003367</td>\n",
       "      <td>0.185714</td>\n",
       "      <td>0.764550</td>\n",
       "      <td>0.336538</td>\n",
       "      <td>0.311389</td>\n",
       "      <td>0.321687</td>\n",
       "      <td>0.545894</td>\n",
       "      <td>0.666667</td>\n",
       "      <td>0.428808</td>\n",
       "      <td>0.0</td>\n",
       "      <td>...</td>\n",
       "      <td>0.428571</td>\n",
       "      <td>1.0</td>\n",
       "      <td>0.0</td>\n",
       "      <td>1.0</td>\n",
       "      <td>0.0</td>\n",
       "      <td>0.0</td>\n",
       "      <td>0.0</td>\n",
       "      <td>0.0</td>\n",
       "      <td>0.0</td>\n",
       "      <td>0.0</td>\n",
       "    </tr>\n",
       "    <tr>\n",
       "      <th>8933</th>\n",
       "      <td>0.033670</td>\n",
       "      <td>0.190110</td>\n",
       "      <td>0.764550</td>\n",
       "      <td>0.365385</td>\n",
       "      <td>0.311389</td>\n",
       "      <td>0.321687</td>\n",
       "      <td>0.545894</td>\n",
       "      <td>0.666667</td>\n",
       "      <td>0.428808</td>\n",
       "      <td>0.0</td>\n",
       "      <td>...</td>\n",
       "      <td>0.428571</td>\n",
       "      <td>1.0</td>\n",
       "      <td>0.0</td>\n",
       "      <td>1.0</td>\n",
       "      <td>0.0</td>\n",
       "      <td>0.0</td>\n",
       "      <td>0.0</td>\n",
       "      <td>0.0</td>\n",
       "      <td>0.0</td>\n",
       "      <td>0.0</td>\n",
       "    </tr>\n",
       "    <tr>\n",
       "      <th>...</th>\n",
       "      <td>...</td>\n",
       "      <td>...</td>\n",
       "      <td>...</td>\n",
       "      <td>...</td>\n",
       "      <td>...</td>\n",
       "      <td>...</td>\n",
       "      <td>...</td>\n",
       "      <td>...</td>\n",
       "      <td>...</td>\n",
       "      <td>...</td>\n",
       "      <td>...</td>\n",
       "      <td>...</td>\n",
       "      <td>...</td>\n",
       "      <td>...</td>\n",
       "      <td>...</td>\n",
       "      <td>...</td>\n",
       "      <td>...</td>\n",
       "      <td>...</td>\n",
       "      <td>...</td>\n",
       "      <td>...</td>\n",
       "      <td>...</td>\n",
       "    </tr>\n",
       "    <tr>\n",
       "      <th>2064695</th>\n",
       "      <td>0.154882</td>\n",
       "      <td>0.185348</td>\n",
       "      <td>0.780423</td>\n",
       "      <td>0.240385</td>\n",
       "      <td>0.090909</td>\n",
       "      <td>0.571180</td>\n",
       "      <td>0.813299</td>\n",
       "      <td>0.809524</td>\n",
       "      <td>0.428808</td>\n",
       "      <td>0.0</td>\n",
       "      <td>...</td>\n",
       "      <td>0.571429</td>\n",
       "      <td>0.0</td>\n",
       "      <td>1.0</td>\n",
       "      <td>0.0</td>\n",
       "      <td>1.0</td>\n",
       "      <td>0.0</td>\n",
       "      <td>0.0</td>\n",
       "      <td>0.0</td>\n",
       "      <td>0.0</td>\n",
       "      <td>0.0</td>\n",
       "    </tr>\n",
       "    <tr>\n",
       "      <th>2064700</th>\n",
       "      <td>0.202020</td>\n",
       "      <td>0.120879</td>\n",
       "      <td>0.780423</td>\n",
       "      <td>0.259615</td>\n",
       "      <td>0.090909</td>\n",
       "      <td>0.571180</td>\n",
       "      <td>0.813299</td>\n",
       "      <td>0.809524</td>\n",
       "      <td>0.428808</td>\n",
       "      <td>0.0</td>\n",
       "      <td>...</td>\n",
       "      <td>0.571429</td>\n",
       "      <td>0.0</td>\n",
       "      <td>1.0</td>\n",
       "      <td>0.0</td>\n",
       "      <td>1.0</td>\n",
       "      <td>0.0</td>\n",
       "      <td>0.0</td>\n",
       "      <td>0.0</td>\n",
       "      <td>0.0</td>\n",
       "      <td>0.0</td>\n",
       "    </tr>\n",
       "    <tr>\n",
       "      <th>2064704</th>\n",
       "      <td>0.151515</td>\n",
       "      <td>0.113736</td>\n",
       "      <td>0.780423</td>\n",
       "      <td>0.230769</td>\n",
       "      <td>0.090909</td>\n",
       "      <td>0.571180</td>\n",
       "      <td>0.813299</td>\n",
       "      <td>0.809524</td>\n",
       "      <td>0.428808</td>\n",
       "      <td>0.0</td>\n",
       "      <td>...</td>\n",
       "      <td>0.571429</td>\n",
       "      <td>0.0</td>\n",
       "      <td>1.0</td>\n",
       "      <td>0.0</td>\n",
       "      <td>1.0</td>\n",
       "      <td>0.0</td>\n",
       "      <td>0.0</td>\n",
       "      <td>0.0</td>\n",
       "      <td>0.0</td>\n",
       "      <td>0.0</td>\n",
       "    </tr>\n",
       "    <tr>\n",
       "      <th>2064710</th>\n",
       "      <td>0.045455</td>\n",
       "      <td>0.154396</td>\n",
       "      <td>0.780423</td>\n",
       "      <td>0.278846</td>\n",
       "      <td>0.090909</td>\n",
       "      <td>0.571180</td>\n",
       "      <td>0.813299</td>\n",
       "      <td>0.809524</td>\n",
       "      <td>0.428808</td>\n",
       "      <td>0.0</td>\n",
       "      <td>...</td>\n",
       "      <td>0.571429</td>\n",
       "      <td>0.0</td>\n",
       "      <td>1.0</td>\n",
       "      <td>0.0</td>\n",
       "      <td>1.0</td>\n",
       "      <td>0.0</td>\n",
       "      <td>0.0</td>\n",
       "      <td>0.0</td>\n",
       "      <td>0.0</td>\n",
       "      <td>0.0</td>\n",
       "    </tr>\n",
       "    <tr>\n",
       "      <th>2064712</th>\n",
       "      <td>0.085859</td>\n",
       "      <td>0.221429</td>\n",
       "      <td>0.780423</td>\n",
       "      <td>0.278846</td>\n",
       "      <td>0.090909</td>\n",
       "      <td>0.571180</td>\n",
       "      <td>0.813299</td>\n",
       "      <td>0.809524</td>\n",
       "      <td>0.428808</td>\n",
       "      <td>0.0</td>\n",
       "      <td>...</td>\n",
       "      <td>0.571429</td>\n",
       "      <td>0.0</td>\n",
       "      <td>1.0</td>\n",
       "      <td>0.0</td>\n",
       "      <td>1.0</td>\n",
       "      <td>0.0</td>\n",
       "      <td>0.0</td>\n",
       "      <td>0.0</td>\n",
       "      <td>0.0</td>\n",
       "      <td>0.0</td>\n",
       "    </tr>\n",
       "  </tbody>\n",
       "</table>\n",
       "<p>39444 rows × 43 columns</p>\n",
       "</div>"
      ],
      "text/plain": [
       "         Speed_MPH       ATP     BP_Hg       BPM        JF        FF  \\\n",
       "8906      0.207071  0.185714  0.764550  0.250000  0.246125  0.269353   \n",
       "8911      0.095960  0.219780  0.764550  0.278846  0.221750  0.284720   \n",
       "8912      0.222222  0.182418  0.764550  0.250000  0.246125  0.269353   \n",
       "8920      0.003367  0.185714  0.764550  0.336538  0.311389  0.321687   \n",
       "8933      0.033670  0.190110  0.764550  0.365385  0.311389  0.321687   \n",
       "...            ...       ...       ...       ...       ...       ...   \n",
       "2064695   0.154882  0.185348  0.780423  0.240385  0.090909  0.571180   \n",
       "2064700   0.202020  0.120879  0.780423  0.259615  0.090909  0.571180   \n",
       "2064704   0.151515  0.113736  0.780423  0.230769  0.090909  0.571180   \n",
       "2064710   0.045455  0.154396  0.780423  0.278846  0.090909  0.571180   \n",
       "2064712   0.085859  0.221429  0.780423  0.278846  0.090909  0.571180   \n",
       "\n",
       "         Src_Temperature  Src_Pressure  Src_WindSpeed  Day_Day1  ...  \\\n",
       "8906            0.545894      0.666667       0.428808       0.0  ...   \n",
       "8911            0.545894      0.666667       0.428808       0.0  ...   \n",
       "8912            0.545894      0.666667       0.428808       0.0  ...   \n",
       "8920            0.545894      0.666667       0.428808       0.0  ...   \n",
       "8933            0.545894      0.666667       0.428808       0.0  ...   \n",
       "...                  ...           ...            ...       ...  ...   \n",
       "2064695         0.813299      0.809524       0.428808       0.0  ...   \n",
       "2064700         0.813299      0.809524       0.428808       0.0  ...   \n",
       "2064704         0.813299      0.809524       0.428808       0.0  ...   \n",
       "2064710         0.813299      0.809524       0.428808       0.0  ...   \n",
       "2064712         0.813299      0.809524       0.428808       0.0  ...   \n",
       "\n",
       "         Openness  Gender_Female  Gender_Male  Trip_Trip1  Trip_Trip2  \\\n",
       "8906     0.428571            1.0          0.0         1.0         0.0   \n",
       "8911     0.428571            1.0          0.0         1.0         0.0   \n",
       "8912     0.428571            1.0          0.0         1.0         0.0   \n",
       "8920     0.428571            1.0          0.0         1.0         0.0   \n",
       "8933     0.428571            1.0          0.0         1.0         0.0   \n",
       "...           ...            ...          ...         ...         ...   \n",
       "2064695  0.571429            0.0          1.0         0.0         1.0   \n",
       "2064700  0.571429            0.0          1.0         0.0         1.0   \n",
       "2064704  0.571429            0.0          1.0         0.0         1.0   \n",
       "2064710  0.571429            0.0          1.0         0.0         1.0   \n",
       "2064712  0.571429            0.0          1.0         0.0         1.0   \n",
       "\n",
       "         Trip_Trip3  Trip_Trip4  Trip_Trip5  Trip_Trip6  Trip_Trip7  \n",
       "8906            0.0         0.0         0.0         0.0         0.0  \n",
       "8911            0.0         0.0         0.0         0.0         0.0  \n",
       "8912            0.0         0.0         0.0         0.0         0.0  \n",
       "8920            0.0         0.0         0.0         0.0         0.0  \n",
       "8933            0.0         0.0         0.0         0.0         0.0  \n",
       "...             ...         ...         ...         ...         ...  \n",
       "2064695         0.0         0.0         0.0         0.0         0.0  \n",
       "2064700         0.0         0.0         0.0         0.0         0.0  \n",
       "2064704         0.0         0.0         0.0         0.0         0.0  \n",
       "2064710         0.0         0.0         0.0         0.0         0.0  \n",
       "2064712         0.0         0.0         0.0         0.0         0.0  \n",
       "\n",
       "[39444 rows x 43 columns]"
      ]
     },
     "execution_count": 59,
     "metadata": {},
     "output_type": "execute_result"
    }
   ],
   "source": [
    "normalized_df"
   ]
  }
 ],
 "metadata": {
  "kernelspec": {
   "display_name": "Python 3 (ipykernel)",
   "language": "python",
   "name": "python3"
  },
  "language_info": {
   "codemirror_mode": {
    "name": "ipython",
    "version": 3
   },
   "file_extension": ".py",
   "mimetype": "text/x-python",
   "name": "python",
   "nbconvert_exporter": "python",
   "pygments_lexer": "ipython3",
   "version": "3.9.12"
  }
 },
 "nbformat": 4,
 "nbformat_minor": 4
}
